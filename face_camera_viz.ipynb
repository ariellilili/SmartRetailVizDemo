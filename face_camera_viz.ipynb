{
 "cells": [
  {
   "cell_type": "code",
   "execution_count": 42,
   "metadata": {},
   "outputs": [
    {
     "data": {
      "text/html": [
       "        <script type=\"text/javascript\">\n",
       "        window.PlotlyConfig = {MathJaxConfig: 'local'};\n",
       "        if (window.MathJax) {MathJax.Hub.Config({SVG: {font: \"STIX-Web\"}});}\n",
       "        if (typeof require !== 'undefined') {\n",
       "        require.undef(\"plotly\");\n",
       "        requirejs.config({\n",
       "            paths: {\n",
       "                'plotly': ['https://cdn.plot.ly/plotly-latest.min']\n",
       "            }\n",
       "        });\n",
       "        require(['plotly'], function(Plotly) {\n",
       "            window._Plotly = Plotly;\n",
       "        });\n",
       "        }\n",
       "        </script>\n",
       "        "
      ]
     },
     "metadata": {},
     "output_type": "display_data"
    },
    {
     "data": {
      "text/html": [
       "<div>\n",
       "<style scoped>\n",
       "    .dataframe tbody tr th:only-of-type {\n",
       "        vertical-align: middle;\n",
       "    }\n",
       "\n",
       "    .dataframe tbody tr th {\n",
       "        vertical-align: top;\n",
       "    }\n",
       "\n",
       "    .dataframe thead th {\n",
       "        text-align: right;\n",
       "    }\n",
       "</style>\n",
       "<table border=\"1\" class=\"dataframe\">\n",
       "  <thead>\n",
       "    <tr style=\"text-align: right;\">\n",
       "      <th></th>\n",
       "      <th>timestamp</th>\n",
       "      <th>cameraID</th>\n",
       "      <th>faceID</th>\n",
       "      <th>gender</th>\n",
       "      <th>age</th>\n",
       "      <th>customerType</th>\n",
       "      <th>mood</th>\n",
       "      <th>accompany</th>\n",
       "      <th>zoneID</th>\n",
       "    </tr>\n",
       "  </thead>\n",
       "  <tbody>\n",
       "    <tr>\n",
       "      <th>0</th>\n",
       "      <td>2019-05-10 10:00:10</td>\n",
       "      <td>1</td>\n",
       "      <td>L7O49N</td>\n",
       "      <td>Male</td>\n",
       "      <td>50</td>\n",
       "      <td>新客</td>\n",
       "      <td>中性</td>\n",
       "      <td>无伴</td>\n",
       "      <td>outdoor</td>\n",
       "    </tr>\n",
       "    <tr>\n",
       "      <th>1</th>\n",
       "      <td>2019-05-10 10:00:38</td>\n",
       "      <td>1</td>\n",
       "      <td>FGROAE</td>\n",
       "      <td>Female</td>\n",
       "      <td>30</td>\n",
       "      <td>新客</td>\n",
       "      <td>中性</td>\n",
       "      <td>无伴</td>\n",
       "      <td>outdoor</td>\n",
       "    </tr>\n",
       "    <tr>\n",
       "      <th>2</th>\n",
       "      <td>2019-05-10 10:02:16</td>\n",
       "      <td>1</td>\n",
       "      <td>POSH4U</td>\n",
       "      <td>Female</td>\n",
       "      <td>44</td>\n",
       "      <td>新客</td>\n",
       "      <td>中性</td>\n",
       "      <td>有伴</td>\n",
       "      <td>outdoor</td>\n",
       "    </tr>\n",
       "    <tr>\n",
       "      <th>3</th>\n",
       "      <td>2019-05-10 10:02:33</td>\n",
       "      <td>1</td>\n",
       "      <td>NFS57J</td>\n",
       "      <td>Unknown</td>\n",
       "      <td>53</td>\n",
       "      <td>老客</td>\n",
       "      <td>开心</td>\n",
       "      <td>无伴</td>\n",
       "      <td>outdoor</td>\n",
       "    </tr>\n",
       "    <tr>\n",
       "      <th>4</th>\n",
       "      <td>2019-05-10 10:03:13</td>\n",
       "      <td>1</td>\n",
       "      <td>VTG62R</td>\n",
       "      <td>Male</td>\n",
       "      <td>29</td>\n",
       "      <td>新客</td>\n",
       "      <td>中性</td>\n",
       "      <td>无伴</td>\n",
       "      <td>outdoor</td>\n",
       "    </tr>\n",
       "  </tbody>\n",
       "</table>\n",
       "</div>"
      ],
      "text/plain": [
       "            timestamp  cameraID  faceID   gender  age customerType mood  \\\n",
       "0 2019-05-10 10:00:10         1  L7O49N     Male   50           新客   中性   \n",
       "1 2019-05-10 10:00:38         1  FGROAE   Female   30           新客   中性   \n",
       "2 2019-05-10 10:02:16         1  POSH4U   Female   44           新客   中性   \n",
       "3 2019-05-10 10:02:33         1  NFS57J  Unknown   53           老客   开心   \n",
       "4 2019-05-10 10:03:13         1  VTG62R     Male   29           新客   中性   \n",
       "\n",
       "  accompany   zoneID  \n",
       "0        无伴  outdoor  \n",
       "1        无伴  outdoor  \n",
       "2        有伴  outdoor  \n",
       "3        无伴  outdoor  \n",
       "4        无伴  outdoor  "
      ]
     },
     "execution_count": 42,
     "metadata": {},
     "output_type": "execute_result"
    }
   ],
   "source": [
    "import plotly \n",
    "import plotly.graph_objs as go\n",
    "import pandas as pd\n",
    "import numpy as np\n",
    "import plotly.io as pio\n",
    "import os\n",
    "\n",
    "# for ploting online plots, account info is needed\n",
    "# plotly.tools.set_credentials_file(username='ariellilili', api_key='X8MtW4k2mpBL5tUUHZdi')\n",
    "\n",
    "# create offline plots\n",
    "plotly.offline.init_notebook_mode(connected=True)\n",
    "\n",
    "# import data\n",
    "face = pd.read_csv('face_camera.csv')\n",
    "\n",
    "# change timestamp datatype to datetime\n",
    "face['timestamp'] = pd.to_datetime(face['timestamp'])\n",
    "face.head()"
   ]
  },
  {
   "cell_type": "code",
   "execution_count": 49,
   "metadata": {
    "scrolled": true
   },
   "outputs": [
    {
     "data": {
      "application/vnd.plotly.v1+json": {
       "config": {
        "linkText": "Export to plot.ly",
        "plotlyServerURL": "https://plot.ly",
        "responsive": true,
        "showLink": false
       },
       "data": [
        {
         "marker": {
          "color": "#454552"
         },
         "mode": "lines+markers",
         "name": "门口人流量",
         "type": "scatter",
         "uid": "6a7e7456-c3db-4e9a-8bbf-a7f53e23d37b",
         "x": [
          "2019-05-10 10:00:00",
          "2019-05-10 11:00:00",
          "2019-05-10 12:00:00",
          "2019-05-10 13:00:00",
          "2019-05-10 14:00:00",
          "2019-05-10 15:00:00",
          "2019-05-10 16:00:00",
          "2019-05-10 17:00:00",
          "2019-05-10 18:00:00",
          "2019-05-10 19:00:00",
          "2019-05-10 20:00:00",
          "2019-05-10 21:00:00"
         ],
         "y": [
          132,
          140,
          144,
          163,
          150,
          173,
          157,
          147,
          133,
          116,
          80,
          88
         ]
        },
        {
         "marker": {
          "color": "#e85a71"
         },
         "mode": "lines+markers",
         "name": "进门数",
         "type": "scatter",
         "uid": "bd8a0029-d8fd-465e-8f64-d44fb937c217",
         "x": [
          "2019-05-10 10:00:00",
          "2019-05-10 11:00:00",
          "2019-05-10 12:00:00",
          "2019-05-10 13:00:00",
          "2019-05-10 14:00:00",
          "2019-05-10 15:00:00",
          "2019-05-10 16:00:00",
          "2019-05-10 17:00:00",
          "2019-05-10 18:00:00",
          "2019-05-10 19:00:00",
          "2019-05-10 20:00:00",
          "2019-05-10 21:00:00"
         ],
         "y": [
          37,
          28,
          39,
          27,
          32,
          42,
          29,
          31,
          39,
          31,
          24,
          18
         ]
        }
       ],
       "layout": {
        "font": {
         "family": "微软雅黑"
        },
        "title": {
         "text": "每小时访客，总进门率：23%"
        }
       }
      },
      "text/html": [
       "<div>\n",
       "        \n",
       "        \n",
       "            <div id=\"c930de14-7f8e-41b2-8fd3-f88661f84d32\" class=\"plotly-graph-div\" style=\"height:525px; width:100%;\"></div>\n",
       "            <script type=\"text/javascript\">\n",
       "                require([\"plotly\"], function(Plotly) {\n",
       "                    window.PLOTLYENV=window.PLOTLYENV || {};\n",
       "                    window.PLOTLYENV.BASE_URL='https://plot.ly';\n",
       "                    \n",
       "                if (document.getElementById(\"c930de14-7f8e-41b2-8fd3-f88661f84d32\")) {\n",
       "                    Plotly.newPlot(\n",
       "                        'c930de14-7f8e-41b2-8fd3-f88661f84d32',\n",
       "                        [{\"marker\": {\"color\": \"#454552\"}, \"mode\": \"lines+markers\", \"name\": \"\\u95e8\\u53e3\\u4eba\\u6d41\\u91cf\", \"type\": \"scatter\", \"uid\": \"73338554-c539-4faa-8623-eae297f5ae08\", \"x\": [\"2019-05-10 10:00:00\", \"2019-05-10 11:00:00\", \"2019-05-10 12:00:00\", \"2019-05-10 13:00:00\", \"2019-05-10 14:00:00\", \"2019-05-10 15:00:00\", \"2019-05-10 16:00:00\", \"2019-05-10 17:00:00\", \"2019-05-10 18:00:00\", \"2019-05-10 19:00:00\", \"2019-05-10 20:00:00\", \"2019-05-10 21:00:00\"], \"y\": [132, 140, 144, 163, 150, 173, 157, 147, 133, 116, 80, 88]}, {\"marker\": {\"color\": \"#e85a71\"}, \"mode\": \"lines+markers\", \"name\": \"\\u8fdb\\u95e8\\u6570\", \"type\": \"scatter\", \"uid\": \"b06f9a8a-77ed-423c-86a5-6955c3e34e8b\", \"x\": [\"2019-05-10 10:00:00\", \"2019-05-10 11:00:00\", \"2019-05-10 12:00:00\", \"2019-05-10 13:00:00\", \"2019-05-10 14:00:00\", \"2019-05-10 15:00:00\", \"2019-05-10 16:00:00\", \"2019-05-10 17:00:00\", \"2019-05-10 18:00:00\", \"2019-05-10 19:00:00\", \"2019-05-10 20:00:00\", \"2019-05-10 21:00:00\"], \"y\": [37, 28, 39, 27, 32, 42, 29, 31, 39, 31, 24, 18]}],\n",
       "                        {\"font\": {\"family\": \"\\u5fae\\u8f6f\\u96c5\\u9ed1\"}, \"title\": {\"text\": \"\\u6bcf\\u5c0f\\u65f6\\u8bbf\\u5ba2\\uff0c\\u603b\\u8fdb\\u95e8\\u7387\\uff1a23%\"}},\n",
       "                        {\"showLink\": false, \"linkText\": \"Export to plot.ly\", \"plotlyServerURL\": \"https://plot.ly\", \"responsive\": true}\n",
       "                    ).then(function(){\n",
       "                            \n",
       "var gd = document.getElementById('c930de14-7f8e-41b2-8fd3-f88661f84d32');\n",
       "var x = new MutationObserver(function (mutations, observer) {{\n",
       "        var display = window.getComputedStyle(gd).display;\n",
       "        if (!display || display === 'none') {{\n",
       "            console.log([gd, 'removed!']);\n",
       "            Plotly.purge(gd);\n",
       "            observer.disconnect();\n",
       "        }}\n",
       "}});\n",
       "\n",
       "// Listen for the removal of the full notebook cells\n",
       "var notebookContainer = gd.closest('#notebook-container');\n",
       "if (notebookContainer) {{\n",
       "    x.observe(notebookContainer, {childList: true});\n",
       "}}\n",
       "\n",
       "// Listen for the clearing of the current output cell\n",
       "var outputEl = gd.closest('.output');\n",
       "if (outputEl) {{\n",
       "    x.observe(outputEl, {childList: true});\n",
       "}}\n",
       "\n",
       "                        })\n",
       "                };\n",
       "                });\n",
       "            </script>\n",
       "        </div>"
      ]
     },
     "metadata": {},
     "output_type": "display_data"
    }
   ],
   "source": [
    "# indoor rate\n",
    "df = face\n",
    "in_rate = \"{:.0%}\".format(df[df['zoneID']=='in'].shape[0]/df[df['zoneID']=='outdoor'].shape[0])\n",
    "# calculate per hour visits\n",
    "df.index = df['timestamp']\n",
    "df = df['faceID'].groupby(df['zoneID']).resample('H').count().to_frame()\n",
    "\n",
    "data = [go.Scatter(\n",
    "    x=df.loc['outdoor'].index,\n",
    "    y=df.loc['outdoor']['faceID'],\n",
    "    mode = 'lines+markers',\n",
    "    name = '门口人流量',\n",
    "    marker=dict(color='#454552')\n",
    "    ),\n",
    "        go.Scatter(\n",
    "    x=df.loc['in'].index,\n",
    "    y=df.loc['in']['faceID'],\n",
    "    mode = 'lines+markers',\n",
    "            name = '进门数',\n",
    "            marker=dict(color='#e85a71')\n",
    "    )\n",
    "       ]\n",
    "layout = go.Layout(\n",
    "    title='每小时访客，总进门率：'+in_rate,\n",
    "    font=dict(family='微软雅黑')\n",
    ")\n",
    "\n",
    "fig1 = go.Figure(data=data, layout=layout)\n",
    "plotly.offline.iplot(fig1)\n",
    "pio.write_image(fig1, '单日访客.jpeg', scale=5, width=600, height = 400)"
   ]
  },
  {
   "cell_type": "code",
   "execution_count": 44,
   "metadata": {},
   "outputs": [
    {
     "data": {
      "application/vnd.plotly.v1+json": {
       "config": {
        "linkText": "Export to plot.ly",
        "plotlyServerURL": "https://plot.ly",
        "responsive": true,
        "showLink": false
       },
       "data": [
        {
         "hoverinfo": "x",
         "marker": {
          "color": "#4ea1d3"
         },
         "name": "男",
         "opacity": 0.8,
         "orientation": "h",
         "text": [
          5,
          21,
          55,
          46,
          17,
          3
         ],
         "textposition": "auto",
         "type": "bar",
         "uid": "58fd7a90-0538-456b-9fdc-f1eaf01dc2b3",
         "x": [
          5,
          21,
          55,
          46,
          17,
          3
         ],
         "y": [
          10,
          20,
          30,
          40,
          50,
          60,
          70
         ]
        },
        {
         "hoverinfo": "text",
         "marker": {
          "color": "#e85a71"
         },
         "name": "女",
         "opacity": 0.8,
         "orientation": "h",
         "text": [
          4,
          19,
          60,
          43,
          18,
          4
         ],
         "textposition": "auto",
         "type": "bar",
         "uid": "997a0dd1-b630-42ae-bfa0-90be8fb54438",
         "x": [
          -4,
          -19,
          -60,
          -43,
          -18,
          -4
         ],
         "y": [
          10,
          20,
          30,
          40,
          50,
          60,
          70
         ]
        }
       ],
       "layout": {
        "bargap": 0.1,
        "barmode": "overlay",
        "font": {
         "family": "微软雅黑"
        },
        "title": {
         "text": "年龄与性别"
        },
        "xaxis": {
         "showgrid": false,
         "showticklabels": false,
         "title": {
          "text": "访客数"
         }
        },
        "yaxis": {
         "title": {
          "text": "年龄"
         }
        }
       }
      },
      "text/html": [
       "<div>\n",
       "        \n",
       "        \n",
       "            <div id=\"ba79c6d4-f8b5-4a57-a1dc-b22a4655ab83\" class=\"plotly-graph-div\" style=\"height:525px; width:100%;\"></div>\n",
       "            <script type=\"text/javascript\">\n",
       "                require([\"plotly\"], function(Plotly) {\n",
       "                    window.PLOTLYENV=window.PLOTLYENV || {};\n",
       "                    window.PLOTLYENV.BASE_URL='https://plot.ly';\n",
       "                    \n",
       "                if (document.getElementById(\"ba79c6d4-f8b5-4a57-a1dc-b22a4655ab83\")) {\n",
       "                    Plotly.newPlot(\n",
       "                        'ba79c6d4-f8b5-4a57-a1dc-b22a4655ab83',\n",
       "                        [{\"hoverinfo\": \"x\", \"marker\": {\"color\": \"#4ea1d3\"}, \"name\": \"\\u7537\", \"opacity\": 0.8, \"orientation\": \"h\", \"text\": [5.0, 21.0, 55.0, 46.0, 17.0, 3.0], \"textposition\": \"auto\", \"type\": \"bar\", \"uid\": \"63fae17b-92eb-4ad8-97c9-b11adeedf381\", \"x\": [5, 21, 55, 46, 17, 3], \"y\": [10, 20, 30, 40, 50, 60, 70]}, {\"hoverinfo\": \"text\", \"marker\": {\"color\": \"#e85a71\"}, \"name\": \"\\u5973\", \"opacity\": 0.8, \"orientation\": \"h\", \"text\": [4.0, 19.0, 60.0, 43.0, 18.0, 4.0], \"textposition\": \"auto\", \"type\": \"bar\", \"uid\": \"5b2475e1-e312-4cf3-88e3-cf6ed472edbe\", \"x\": [-4, -19, -60, -43, -18, -4], \"y\": [10, 20, 30, 40, 50, 60, 70]}],\n",
       "                        {\"bargap\": 0.1, \"barmode\": \"overlay\", \"font\": {\"family\": \"\\u5fae\\u8f6f\\u96c5\\u9ed1\"}, \"title\": {\"text\": \"\\u5e74\\u9f84\\u4e0e\\u6027\\u522b\"}, \"xaxis\": {\"showgrid\": false, \"showticklabels\": false, \"title\": {\"text\": \"\\u8bbf\\u5ba2\\u6570\"}}, \"yaxis\": {\"title\": {\"text\": \"\\u5e74\\u9f84\"}}},\n",
       "                        {\"showLink\": false, \"linkText\": \"Export to plot.ly\", \"plotlyServerURL\": \"https://plot.ly\", \"responsive\": true}\n",
       "                    ).then(function(){\n",
       "                            \n",
       "var gd = document.getElementById('ba79c6d4-f8b5-4a57-a1dc-b22a4655ab83');\n",
       "var x = new MutationObserver(function (mutations, observer) {{\n",
       "        var display = window.getComputedStyle(gd).display;\n",
       "        if (!display || display === 'none') {{\n",
       "            console.log([gd, 'removed!']);\n",
       "            Plotly.purge(gd);\n",
       "            observer.disconnect();\n",
       "        }}\n",
       "}});\n",
       "\n",
       "// Listen for the removal of the full notebook cells\n",
       "var notebookContainer = gd.closest('#notebook-container');\n",
       "if (notebookContainer) {{\n",
       "    x.observe(notebookContainer, {childList: true});\n",
       "}}\n",
       "\n",
       "// Listen for the clearing of the current output cell\n",
       "var outputEl = gd.closest('.output');\n",
       "if (outputEl) {{\n",
       "    x.observe(outputEl, {childList: true});\n",
       "}}\n",
       "\n",
       "                        })\n",
       "                };\n",
       "                });\n",
       "            </script>\n",
       "        </div>"
      ]
     },
     "metadata": {},
     "output_type": "display_data"
    }
   ],
   "source": [
    "# plot age/gender pyramid\n",
    "\n",
    "# get data\n",
    "df = face[face['zoneID'] == 'in']\n",
    "women_bins, bins = np.histogram(df[df['gender'] == 'Female']['age'], bins=list(range(10, 80, 10)))\n",
    "men_bins, bins = np.histogram(df[df['gender'] == 'Male']['age'], bins=list(range(10, 80, 10)))\n",
    "women_bins = -women_bins\n",
    "y = bins\n",
    "\n",
    "# plot\n",
    "layout = go.Layout(title=\"年龄与性别\",\n",
    "                   yaxis=go.layout.YAxis(title='年龄'),\n",
    "                   xaxis=go.layout.XAxis(\n",
    "                       showticklabels=False,\n",
    "                       showgrid=False,\n",
    "                       title='访客数'),\n",
    "                   barmode='overlay',\n",
    "                   bargap=0.1,\n",
    "                  font=dict(family='微软雅黑'))\n",
    "\n",
    "data = [go.Bar(y=y,\n",
    "               x=men_bins,\n",
    "               orientation='h',\n",
    "               name='男',\n",
    "               hoverinfo='x',\n",
    "               text=men_bins,\n",
    "               textposition = 'auto',\n",
    "               marker=dict(color='#4ea1d3'),\n",
    "               opacity=0.8\n",
    "               ),\n",
    "        go.Bar(y=y,\n",
    "               x=women_bins,\n",
    "               orientation='h',\n",
    "               name='女',\n",
    "               text=-1 * women_bins.astype('int'),\n",
    "               hoverinfo='text',\n",
    "               textposition = 'auto',\n",
    "               marker=dict(color='#e85a71'),\n",
    "               opacity=0.8\n",
    "               )]\n",
    "\n",
    "fig2 = go.Figure(data=data, layout=layout)\n",
    "plotly.offline.iplot(fig2)\n",
    "pio.write_image(fig2, '年龄性别.jpeg', scale=5, width=600, height = 400)"
   ]
  },
  {
   "cell_type": "code",
   "execution_count": 45,
   "metadata": {},
   "outputs": [
    {
     "data": {
      "application/vnd.plotly.v1+json": {
       "config": {
        "linkText": "Export to plot.ly",
        "plotlyServerURL": "https://plot.ly",
        "responsive": true,
        "showLink": false
       },
       "data": [
        {
         "domain": {
          "column": 0
         },
         "hole": 0.5,
         "hoverinfo": "value",
         "labels": [
          "新客",
          "老客"
         ],
         "marker": {
          "colors": [
           "#d8e9ef",
           "#4ea1d3"
          ]
         },
         "name": "Customer Type",
         "showlegend": false,
         "textinfo": "label+percent",
         "type": "pie",
         "uid": "771bf5a8-802c-4681-912b-981956ba4129",
         "values": [
          304,
          73
         ]
        },
        {
         "domain": {
          "column": 1
         },
         "hole": 0.5,
         "hoverinfo": "value",
         "labels": [
          "中性",
          "开心"
         ],
         "marker": {
          "colors": [
           "#d8e9ef",
           "#4ea1d3"
          ]
         },
         "name": "Mood",
         "showlegend": false,
         "textinfo": "label+percent",
         "type": "pie",
         "uid": "7499f39f-3cfd-4b13-b965-607dd8765a61",
         "values": [
          262,
          115
         ]
        },
        {
         "domain": {
          "column": 2
         },
         "hole": 0.5,
         "hoverinfo": "value",
         "labels": [
          "有伴",
          "无伴"
         ],
         "marker": {
          "colors": [
           "#d8e9ef",
           "#4ea1d3"
          ]
         },
         "name": "Mood",
         "showlegend": false,
         "textinfo": "label+percent",
         "type": "pie",
         "uid": "7450f6c1-32c0-4452-ba6f-57ccd64e0c39",
         "values": [
          195,
          182
         ]
        }
       ],
       "layout": {
        "annotations": [
         {
          "font": {
           "size": 20
          },
          "showarrow": false,
          "text": "回头客",
          "x": 0.12,
          "y": 0.5
         },
         {
          "font": {
           "size": 20
          },
          "showarrow": false,
          "text": "情绪",
          "x": 0.5,
          "y": 0.5
         },
         {
          "font": {
           "size": 20
          },
          "showarrow": false,
          "text": "有伴与否",
          "x": 0.9,
          "y": 0.5
         }
        ],
        "font": {
         "family": "微软雅黑"
        },
        "grid": {
         "columns": 3,
         "rows": 1
        }
       }
      },
      "text/html": [
       "<div>\n",
       "        \n",
       "        \n",
       "            <div id=\"87e5d630-66de-4d09-984e-3dcc50eef3a5\" class=\"plotly-graph-div\" style=\"height:525px; width:100%;\"></div>\n",
       "            <script type=\"text/javascript\">\n",
       "                require([\"plotly\"], function(Plotly) {\n",
       "                    window.PLOTLYENV=window.PLOTLYENV || {};\n",
       "                    window.PLOTLYENV.BASE_URL='https://plot.ly';\n",
       "                    \n",
       "                if (document.getElementById(\"87e5d630-66de-4d09-984e-3dcc50eef3a5\")) {\n",
       "                    Plotly.newPlot(\n",
       "                        '87e5d630-66de-4d09-984e-3dcc50eef3a5',\n",
       "                        [{\"domain\": {\"column\": 0}, \"hole\": 0.5, \"hoverinfo\": \"value\", \"labels\": [\"\\u65b0\\u5ba2\", \"\\u8001\\u5ba2\"], \"marker\": {\"colors\": [\"#d8e9ef\", \"#4ea1d3\"]}, \"name\": \"Customer Type\", \"showlegend\": false, \"textinfo\": \"label+percent\", \"type\": \"pie\", \"uid\": \"a85fe3c9-bb24-44ab-9073-c0f8616a4c39\", \"values\": [304, 73]}, {\"domain\": {\"column\": 1}, \"hole\": 0.5, \"hoverinfo\": \"value\", \"labels\": [\"\\u4e2d\\u6027\", \"\\u5f00\\u5fc3\"], \"marker\": {\"colors\": [\"#d8e9ef\", \"#4ea1d3\"]}, \"name\": \"Mood\", \"showlegend\": false, \"textinfo\": \"label+percent\", \"type\": \"pie\", \"uid\": \"f964c1f0-a590-44ae-b0c0-b70ca6692600\", \"values\": [262, 115]}, {\"domain\": {\"column\": 2}, \"hole\": 0.5, \"hoverinfo\": \"value\", \"labels\": [\"\\u6709\\u4f34\", \"\\u65e0\\u4f34\"], \"marker\": {\"colors\": [\"#d8e9ef\", \"#4ea1d3\"]}, \"name\": \"Mood\", \"showlegend\": false, \"textinfo\": \"label+percent\", \"type\": \"pie\", \"uid\": \"c5d86b12-9d5c-4f8f-8482-03fb0e7367fc\", \"values\": [195, 182]}],\n",
       "                        {\"annotations\": [{\"font\": {\"size\": 20}, \"showarrow\": false, \"text\": \"\\u56de\\u5934\\u5ba2\", \"x\": 0.12, \"y\": 0.5}, {\"font\": {\"size\": 20}, \"showarrow\": false, \"text\": \"\\u60c5\\u7eea\", \"x\": 0.5, \"y\": 0.5}, {\"font\": {\"size\": 20}, \"showarrow\": false, \"text\": \"\\u6709\\u4f34\\u4e0e\\u5426\", \"x\": 0.9, \"y\": 0.5}], \"font\": {\"family\": \"\\u5fae\\u8f6f\\u96c5\\u9ed1\"}, \"grid\": {\"columns\": 3, \"rows\": 1}},\n",
       "                        {\"showLink\": false, \"linkText\": \"Export to plot.ly\", \"plotlyServerURL\": \"https://plot.ly\", \"responsive\": true}\n",
       "                    ).then(function(){\n",
       "                            \n",
       "var gd = document.getElementById('87e5d630-66de-4d09-984e-3dcc50eef3a5');\n",
       "var x = new MutationObserver(function (mutations, observer) {{\n",
       "        var display = window.getComputedStyle(gd).display;\n",
       "        if (!display || display === 'none') {{\n",
       "            console.log([gd, 'removed!']);\n",
       "            Plotly.purge(gd);\n",
       "            observer.disconnect();\n",
       "        }}\n",
       "}});\n",
       "\n",
       "// Listen for the removal of the full notebook cells\n",
       "var notebookContainer = gd.closest('#notebook-container');\n",
       "if (notebookContainer) {{\n",
       "    x.observe(notebookContainer, {childList: true});\n",
       "}}\n",
       "\n",
       "// Listen for the clearing of the current output cell\n",
       "var outputEl = gd.closest('.output');\n",
       "if (outputEl) {{\n",
       "    x.observe(outputEl, {childList: true});\n",
       "}}\n",
       "\n",
       "                        })\n",
       "                };\n",
       "                });\n",
       "            </script>\n",
       "        </div>"
      ]
     },
     "metadata": {},
     "output_type": "display_data"
    }
   ],
   "source": [
    "# donut plots for customer type, mood, and accompany\n",
    "\n",
    "# prepare data\n",
    "df = face[face['zoneID'] == 'in']\n",
    "df1 = df['customerType'].value_counts().to_frame()\n",
    "df2 = df['mood'].value_counts().to_frame()\n",
    "df3 = df['accompany'].value_counts().to_frame()\n",
    "\n",
    "fig3 = {\n",
    "  \"data\": [\n",
    "    {\n",
    "      \"values\": df1['customerType'],\n",
    "      \"labels\": df1.index,\n",
    "      \"domain\": {\"column\": 0},\n",
    "      \"name\": \"Customer Type\",\n",
    "        'textinfo' : 'label+percent',\n",
    "        'showlegend' : False,\n",
    "      \"hoverinfo\":\"value\",\n",
    "      \"hole\": .5,\n",
    "      \"type\": \"pie\",\n",
    "        'marker': {'colors': ['#d8e9ef',\n",
    "                                  '#4ea1d3']}\n",
    "    },\n",
    "    {\n",
    "      \"values\": df2['mood'],\n",
    "      \"labels\": df2.index,\n",
    "        'textinfo' : 'label+percent',\n",
    "        'showlegend' : False,\n",
    "      \"hoverinfo\":\"value\",\n",
    "      \"domain\": {\"column\": 1},\n",
    "      \"name\": \"Mood\",\n",
    "      \"hole\": .5,\n",
    "      \"type\": \"pie\",\n",
    "        'marker': {'colors': ['#d8e9ef',\n",
    "                                  '#4ea1d3']}\n",
    "                  },\n",
    "        {\n",
    "      \"values\": df3['accompany'],\n",
    "      \"labels\": df3.index,\n",
    "        'textinfo' : 'label+percent',\n",
    "        'showlegend' : False,\n",
    "      \"hoverinfo\":\"value\",\n",
    "      \"domain\": {\"column\": 2},\n",
    "      \"name\": \"Mood\",\n",
    "      \"hole\": .5,\n",
    "      \"type\": \"pie\",\n",
    "        'marker': {'colors': ['#d8e9ef',\n",
    "                                  '#4ea1d3']}\n",
    "        }\n",
    "    ],\n",
    "\n",
    "  \"layout\": {\n",
    "        \"grid\": {\"rows\": 1, \"columns\": 3},\n",
    "      \"font\": {'family': '微软雅黑'},\n",
    "        \"annotations\": [\n",
    "            {\n",
    "                \"font\": {\n",
    "                    \"size\": 20\n",
    "                },\n",
    "                \"showarrow\": False,\n",
    "                \"text\": \"回头客\",\n",
    "                \"x\": 0.12,\n",
    "                \"y\": 0.5\n",
    "            },\n",
    "            {\n",
    "                \"font\": {\n",
    "                    \"size\": 20\n",
    "                },\n",
    "                \"showarrow\": False,\n",
    "                \"text\": \"情绪\",\n",
    "                \"x\": 0.5,\n",
    "                \"y\": 0.5\n",
    "            },\n",
    "            {\n",
    "                \"font\": {\n",
    "                    \"size\": 20\n",
    "                },\n",
    "                \"showarrow\": False,\n",
    "                \"text\": \"有伴与否\",\n",
    "                \"x\": 0.9,\n",
    "                \"y\": 0.5\n",
    "            }\n",
    "        ]\n",
    "    }\n",
    "}\n",
    "plotly.offline.iplot(fig3)\n",
    "pio.write_image(fig3, '3pie.jpeg', scale=5, width=1000, height = 400)"
   ]
  },
  {
   "cell_type": "code",
   "execution_count": null,
   "metadata": {},
   "outputs": [],
   "source": []
  }
 ],
 "metadata": {
  "kernelspec": {
   "display_name": "Python 3",
   "language": "python",
   "name": "python3"
  },
  "language_info": {
   "codemirror_mode": {
    "name": "ipython",
    "version": 3
   },
   "file_extension": ".py",
   "mimetype": "text/x-python",
   "name": "python",
   "nbconvert_exporter": "python",
   "pygments_lexer": "ipython3",
   "version": "3.7.1"
  }
 },
 "nbformat": 4,
 "nbformat_minor": 2
}
