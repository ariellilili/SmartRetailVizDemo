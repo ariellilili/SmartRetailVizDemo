{
 "cells": [
  {
   "cell_type": "code",
   "execution_count": 1,
   "metadata": {},
   "outputs": [
    {
     "data": {
      "text/html": [
       "        <script type=\"text/javascript\">\n",
       "        window.PlotlyConfig = {MathJaxConfig: 'local'};\n",
       "        if (window.MathJax) {MathJax.Hub.Config({SVG: {font: \"STIX-Web\"}});}\n",
       "        if (typeof require !== 'undefined') {\n",
       "        require.undef(\"plotly\");\n",
       "        requirejs.config({\n",
       "            paths: {\n",
       "                'plotly': ['https://cdn.plot.ly/plotly-latest.min']\n",
       "            }\n",
       "        });\n",
       "        require(['plotly'], function(Plotly) {\n",
       "            window._Plotly = Plotly;\n",
       "        });\n",
       "        }\n",
       "        </script>\n",
       "        "
      ]
     },
     "metadata": {},
     "output_type": "display_data"
    },
    {
     "data": {
      "text/html": [
       "<div>\n",
       "<style scoped>\n",
       "    .dataframe tbody tr th:only-of-type {\n",
       "        vertical-align: middle;\n",
       "    }\n",
       "\n",
       "    .dataframe tbody tr th {\n",
       "        vertical-align: top;\n",
       "    }\n",
       "\n",
       "    .dataframe thead th {\n",
       "        text-align: right;\n",
       "    }\n",
       "</style>\n",
       "<table border=\"1\" class=\"dataframe\">\n",
       "  <thead>\n",
       "    <tr style=\"text-align: right;\">\n",
       "      <th></th>\n",
       "      <th>date</th>\n",
       "      <th>zoneID</th>\n",
       "      <th>SKU</th>\n",
       "      <th>try_num</th>\n",
       "      <th>transaction_num</th>\n",
       "      <th>unit_profit</th>\n",
       "      <th>profit_day_sum</th>\n",
       "    </tr>\n",
       "  </thead>\n",
       "  <tbody>\n",
       "    <tr>\n",
       "      <th>0</th>\n",
       "      <td>2018-01-01</td>\n",
       "      <td>进门区</td>\n",
       "      <td>4D磁悬浮</td>\n",
       "      <td>213</td>\n",
       "      <td>50</td>\n",
       "      <td>1828</td>\n",
       "      <td>91400</td>\n",
       "    </tr>\n",
       "    <tr>\n",
       "      <th>1</th>\n",
       "      <td>2018-01-01</td>\n",
       "      <td>进门区</td>\n",
       "      <td>月光宝盒</td>\n",
       "      <td>202</td>\n",
       "      <td>19</td>\n",
       "      <td>1568</td>\n",
       "      <td>29792</td>\n",
       "    </tr>\n",
       "    <tr>\n",
       "      <th>2</th>\n",
       "      <td>2018-01-01</td>\n",
       "      <td>中区1</td>\n",
       "      <td>乳胶</td>\n",
       "      <td>60</td>\n",
       "      <td>9</td>\n",
       "      <td>1556</td>\n",
       "      <td>14004</td>\n",
       "    </tr>\n",
       "    <tr>\n",
       "      <th>3</th>\n",
       "      <td>2018-01-01</td>\n",
       "      <td>中区1</td>\n",
       "      <td>椰棕</td>\n",
       "      <td>46</td>\n",
       "      <td>2</td>\n",
       "      <td>1371</td>\n",
       "      <td>2742</td>\n",
       "    </tr>\n",
       "    <tr>\n",
       "      <th>4</th>\n",
       "      <td>2018-01-01</td>\n",
       "      <td>中区1</td>\n",
       "      <td>软硬两面</td>\n",
       "      <td>119</td>\n",
       "      <td>3</td>\n",
       "      <td>1140</td>\n",
       "      <td>3420</td>\n",
       "    </tr>\n",
       "  </tbody>\n",
       "</table>\n",
       "</div>"
      ],
      "text/plain": [
       "        date zoneID    SKU  try_num  transaction_num  unit_profit  \\\n",
       "0 2018-01-01    进门区  4D磁悬浮      213               50         1828   \n",
       "1 2018-01-01    进门区   月光宝盒      202               19         1568   \n",
       "2 2018-01-01    中区1     乳胶       60                9         1556   \n",
       "3 2018-01-01    中区1     椰棕       46                2         1371   \n",
       "4 2018-01-01    中区1   软硬两面      119                3         1140   \n",
       "\n",
       "   profit_day_sum  \n",
       "0           91400  \n",
       "1           29792  \n",
       "2           14004  \n",
       "3            2742  \n",
       "4            3420  "
      ]
     },
     "execution_count": 1,
     "metadata": {},
     "output_type": "execute_result"
    }
   ],
   "source": [
    "import plotly \n",
    "import plotly.graph_objs as go\n",
    "import pandas as pd\n",
    "import numpy as np\n",
    "import plotly.io as pio\n",
    "import os\n",
    "\n",
    "# for ploting online plots, account info is needed\n",
    "# plotly.tools.set_credentials_file(username='ariellilili', api_key='X8MtW4k2mpBL5tUUHZdi')\n",
    "\n",
    "# create offline plots\n",
    "plotly.offline.init_notebook_mode(connected=True)\n",
    "\n",
    "# import data\n",
    "SKU = pd.read_csv('SKU_year.csv')\n",
    "\n",
    "# change timestamp datatype to datetime\n",
    "SKU['date'] = pd.to_datetime(SKU['date'])\n",
    "SKU.head()"
   ]
  },
  {
   "cell_type": "code",
   "execution_count": 35,
   "metadata": {},
   "outputs": [
    {
     "data": {
      "application/vnd.plotly.v1+json": {
       "config": {
        "linkText": "Export to plot.ly",
        "plotlyServerURL": "https://plot.ly",
        "responsive": true,
        "showLink": false
       },
       "data": [
        {
         "marker": {
          "color": "#4ea1d3"
         },
         "name": "利润",
         "type": "scatter",
         "uid": "a8ce4ac4-30a5-4821-8ed2-d3f5493273be",
         "x": [
          "一",
          "二",
          "三",
          "四"
         ],
         "y": [
          20557201,
          19976106,
          21240386,
          22461684
         ]
        },
        {
         "marker": {
          "color": "#d8e9ef"
         },
         "name": "环比增长",
         "opacity": 0.6,
         "type": "bar",
         "uid": "d0edfa2b-d39b-47ec-bf0c-366a52c8cc08",
         "x": [
          "一",
          "二",
          "三",
          "四"
         ],
         "y": [
          null,
          -0.028267223733425606,
          0.0632896120995754,
          0.057498860896407544
         ],
         "yaxis": "y2"
        }
       ],
       "layout": {
        "font": {
         "family": "微软雅黑"
        },
        "legend": {
         "orientation": "h"
        },
        "title": {
         "text": "2018各季度利润，年度总和=8423万元"
        },
        "yaxis": {
         "title": {
          "text": "利润"
         }
        },
        "yaxis2": {
         "overlaying": "y",
         "side": "right",
         "tickformat": ".1%",
         "title": {
          "text": "环比增长"
         }
        }
       }
      },
      "text/html": [
       "<div>\n",
       "        \n",
       "        \n",
       "            <div id=\"e11cde43-e6c8-4800-9e98-cc4ed8502e92\" class=\"plotly-graph-div\" style=\"height:525px; width:100%;\"></div>\n",
       "            <script type=\"text/javascript\">\n",
       "                require([\"plotly\"], function(Plotly) {\n",
       "                    window.PLOTLYENV=window.PLOTLYENV || {};\n",
       "                    window.PLOTLYENV.BASE_URL='https://plot.ly';\n",
       "                    \n",
       "                if (document.getElementById(\"e11cde43-e6c8-4800-9e98-cc4ed8502e92\")) {\n",
       "                    Plotly.newPlot(\n",
       "                        'e11cde43-e6c8-4800-9e98-cc4ed8502e92',\n",
       "                        [{\"marker\": {\"color\": \"#4ea1d3\"}, \"name\": \"\\u5229\\u6da6\", \"type\": \"scatter\", \"uid\": \"462b6d41-61f7-493b-8a86-e5ab3aa1a290\", \"x\": [\"\\u4e00\", \"\\u4e8c\", \"\\u4e09\", \"\\u56db\"], \"y\": [20557201, 19976106, 21240386, 22461684]}, {\"marker\": {\"color\": \"#d8e9ef\"}, \"name\": \"\\u73af\\u6bd4\\u589e\\u957f\", \"opacity\": 0.6, \"type\": \"bar\", \"uid\": \"27eda941-544f-4626-ab13-b2758e22732e\", \"x\": [\"\\u4e00\", \"\\u4e8c\", \"\\u4e09\", \"\\u56db\"], \"y\": [null, -0.028267223733425606, 0.0632896120995754, 0.057498860896407544], \"yaxis\": \"y2\"}],\n",
       "                        {\"font\": {\"family\": \"\\u5fae\\u8f6f\\u96c5\\u9ed1\"}, \"legend\": {\"orientation\": \"h\"}, \"title\": {\"text\": \"2018\\u5404\\u5b63\\u5ea6\\u5229\\u6da6\\uff0c\\u5e74\\u5ea6\\u603b\\u548c=8423\\u4e07\\u5143\"}, \"yaxis\": {\"title\": {\"text\": \"\\u5229\\u6da6\"}}, \"yaxis2\": {\"overlaying\": \"y\", \"side\": \"right\", \"tickformat\": \".1%\", \"title\": {\"text\": \"\\u73af\\u6bd4\\u589e\\u957f\"}}},\n",
       "                        {\"showLink\": false, \"linkText\": \"Export to plot.ly\", \"plotlyServerURL\": \"https://plot.ly\", \"responsive\": true}\n",
       "                    ).then(function(){\n",
       "                            \n",
       "var gd = document.getElementById('e11cde43-e6c8-4800-9e98-cc4ed8502e92');\n",
       "var x = new MutationObserver(function (mutations, observer) {{\n",
       "        var display = window.getComputedStyle(gd).display;\n",
       "        if (!display || display === 'none') {{\n",
       "            console.log([gd, 'removed!']);\n",
       "            Plotly.purge(gd);\n",
       "            observer.disconnect();\n",
       "        }}\n",
       "}});\n",
       "\n",
       "// Listen for the removal of the full notebook cells\n",
       "var notebookContainer = gd.closest('#notebook-container');\n",
       "if (notebookContainer) {{\n",
       "    x.observe(notebookContainer, {childList: true});\n",
       "}}\n",
       "\n",
       "// Listen for the clearing of the current output cell\n",
       "var outputEl = gd.closest('.output');\n",
       "if (outputEl) {{\n",
       "    x.observe(outputEl, {childList: true});\n",
       "}}\n",
       "\n",
       "                        })\n",
       "                };\n",
       "                });\n",
       "            </script>\n",
       "        </div>"
      ]
     },
     "metadata": {},
     "output_type": "display_data"
    }
   ],
   "source": [
    "# time tab\n",
    "# profit per Q\n",
    "df = SKU\n",
    "profit_year = str(int(sum(df['profit_day_sum'])/10000))\n",
    "df.index = df['date']\n",
    "df1 = df['profit_day_sum'].resample('Q').sum().to_frame()\n",
    "df2 = df1.pct_change()\n",
    "\n",
    "data = [go.Scatter(\n",
    "    x=['一','二','三','四'],\n",
    "    y=df1['profit_day_sum'],\n",
    "    name='利润',\n",
    "            marker=dict(color='#4ea1d3')\n",
    "),\n",
    "    go.Bar(\n",
    "       x=['一','二','三','四'],\n",
    "    y=df2['profit_day_sum'],\n",
    "           yaxis='y2',\n",
    "           name='环比增长',\n",
    "    marker=dict(color='#d8e9ef'),\n",
    "        opacity=0.6\n",
    "       )]\n",
    "layout = go.Layout(\n",
    "    title='2018各季度利润，年度总和='+profit_year+'万元',\n",
    "    yaxis=dict(\n",
    "        title='利润'\n",
    "    ),\n",
    "    yaxis2=dict(\n",
    "        title='环比增长',\n",
    "        tickformat=\".1%\",\n",
    "        overlaying='y',\n",
    "        side='right'\n",
    "    ),\n",
    "    legend=dict(orientation=\"h\"),\n",
    "    font=dict(family='微软雅黑')\n",
    ")\n",
    "\n",
    "fig = go.Figure(data=data, layout=layout)\n",
    "\n",
    "plotly.offline.iplot(fig)\n",
    "pio.write_image(fig, '季度利润.jpeg', scale=5, width=600, height = 400)"
   ]
  },
  {
   "cell_type": "code",
   "execution_count": 36,
   "metadata": {},
   "outputs": [
    {
     "data": {
      "application/vnd.plotly.v1+json": {
       "config": {
        "linkText": "Export to plot.ly",
        "plotlyServerURL": "https://plot.ly",
        "responsive": true,
        "showLink": false
       },
       "data": [
        {
         "marker": {
          "color": "#4ea1d3"
         },
         "name": "销量",
         "type": "scatter",
         "uid": "ac9e66c8-3440-46ca-b45e-2c9f1fafc3ea",
         "x": [
          "2017-12-31",
          "2018-01-31",
          "2018-02-28",
          "2018-03-31",
          "2018-04-30",
          "2018-05-31",
          "2018-06-30",
          "2018-07-31",
          "2018-08-31",
          "2018-09-30",
          "2018-10-31",
          "2018-11-30"
         ],
         "y": [
          4207,
          3800,
          4304,
          3990,
          4163,
          3996,
          4387,
          4363,
          4229,
          4473,
          4517,
          4490
         ]
        },
        {
         "marker": {
          "color": "#d8e9ef"
         },
         "name": "环比增长",
         "opacity": 0.6,
         "type": "bar",
         "uid": "6c0f549d-87f9-406a-ba1d-3e3b06d18896",
         "x": [
          "2017-12-31",
          "2018-01-31",
          "2018-02-28",
          "2018-03-31",
          "2018-04-30",
          "2018-05-31",
          "2018-06-30",
          "2018-07-31",
          "2018-08-31",
          "2018-09-30",
          "2018-10-31",
          "2018-11-30"
         ],
         "y": [
          null,
          -0.09674352270026143,
          0.13263157894736843,
          -0.07295539033457255,
          0.04335839598997504,
          -0.04011530146528941,
          0.09784784784784795,
          -0.005470708912696631,
          -0.030712812285124902,
          0.05769685504847488,
          0.00983679856919295,
          -0.005977418640690679
         ],
         "yaxis": "y2"
        }
       ],
       "layout": {
        "font": {
         "family": "微软雅黑"
        },
        "legend": {
         "orientation": "h"
        },
        "title": {
         "text": "2018月销量，年度总和=50919笔"
        },
        "yaxis": {
         "title": {
          "text": "销量"
         }
        },
        "yaxis2": {
         "overlaying": "y",
         "side": "right",
         "tickformat": ".1%",
         "title": {
          "text": "环比增长"
         }
        }
       }
      },
      "text/html": [
       "<div>\n",
       "        \n",
       "        \n",
       "            <div id=\"eb823c3e-ac7d-4c1c-a173-836ef307f3bf\" class=\"plotly-graph-div\" style=\"height:525px; width:100%;\"></div>\n",
       "            <script type=\"text/javascript\">\n",
       "                require([\"plotly\"], function(Plotly) {\n",
       "                    window.PLOTLYENV=window.PLOTLYENV || {};\n",
       "                    window.PLOTLYENV.BASE_URL='https://plot.ly';\n",
       "                    \n",
       "                if (document.getElementById(\"eb823c3e-ac7d-4c1c-a173-836ef307f3bf\")) {\n",
       "                    Plotly.newPlot(\n",
       "                        'eb823c3e-ac7d-4c1c-a173-836ef307f3bf',\n",
       "                        [{\"marker\": {\"color\": \"#4ea1d3\"}, \"name\": \"\\u9500\\u91cf\", \"type\": \"scatter\", \"uid\": \"0431bf60-c653-476b-9c09-e94db2d3f973\", \"x\": [\"2017-12-31\", \"2018-01-31\", \"2018-02-28\", \"2018-03-31\", \"2018-04-30\", \"2018-05-31\", \"2018-06-30\", \"2018-07-31\", \"2018-08-31\", \"2018-09-30\", \"2018-10-31\", \"2018-11-30\"], \"y\": [4207, 3800, 4304, 3990, 4163, 3996, 4387, 4363, 4229, 4473, 4517, 4490]}, {\"marker\": {\"color\": \"#d8e9ef\"}, \"name\": \"\\u73af\\u6bd4\\u589e\\u957f\", \"opacity\": 0.6, \"type\": \"bar\", \"uid\": \"94ebec3e-1896-4016-b707-46f1f469e8bd\", \"x\": [\"2017-12-31\", \"2018-01-31\", \"2018-02-28\", \"2018-03-31\", \"2018-04-30\", \"2018-05-31\", \"2018-06-30\", \"2018-07-31\", \"2018-08-31\", \"2018-09-30\", \"2018-10-31\", \"2018-11-30\"], \"y\": [null, -0.09674352270026143, 0.13263157894736843, -0.07295539033457255, 0.04335839598997504, -0.04011530146528941, 0.09784784784784795, -0.005470708912696631, -0.030712812285124902, 0.05769685504847488, 0.00983679856919295, -0.005977418640690679], \"yaxis\": \"y2\"}],\n",
       "                        {\"font\": {\"family\": \"\\u5fae\\u8f6f\\u96c5\\u9ed1\"}, \"legend\": {\"orientation\": \"h\"}, \"title\": {\"text\": \"2018\\u6708\\u9500\\u91cf\\uff0c\\u5e74\\u5ea6\\u603b\\u548c=50919\\u7b14\"}, \"yaxis\": {\"title\": {\"text\": \"\\u9500\\u91cf\"}}, \"yaxis2\": {\"overlaying\": \"y\", \"side\": \"right\", \"tickformat\": \".1%\", \"title\": {\"text\": \"\\u73af\\u6bd4\\u589e\\u957f\"}}},\n",
       "                        {\"showLink\": false, \"linkText\": \"Export to plot.ly\", \"plotlyServerURL\": \"https://plot.ly\", \"responsive\": true}\n",
       "                    ).then(function(){\n",
       "                            \n",
       "var gd = document.getElementById('eb823c3e-ac7d-4c1c-a173-836ef307f3bf');\n",
       "var x = new MutationObserver(function (mutations, observer) {{\n",
       "        var display = window.getComputedStyle(gd).display;\n",
       "        if (!display || display === 'none') {{\n",
       "            console.log([gd, 'removed!']);\n",
       "            Plotly.purge(gd);\n",
       "            observer.disconnect();\n",
       "        }}\n",
       "}});\n",
       "\n",
       "// Listen for the removal of the full notebook cells\n",
       "var notebookContainer = gd.closest('#notebook-container');\n",
       "if (notebookContainer) {{\n",
       "    x.observe(notebookContainer, {childList: true});\n",
       "}}\n",
       "\n",
       "// Listen for the clearing of the current output cell\n",
       "var outputEl = gd.closest('.output');\n",
       "if (outputEl) {{\n",
       "    x.observe(outputEl, {childList: true});\n",
       "}}\n",
       "\n",
       "                        })\n",
       "                };\n",
       "                });\n",
       "            </script>\n",
       "        </div>"
      ]
     },
     "metadata": {},
     "output_type": "display_data"
    }
   ],
   "source": [
    "# time tab\n",
    "# number of transactions per month\n",
    "\n",
    "df = SKU\n",
    "transaction_year = str(int(sum(df['transaction_num'])))\n",
    "df.index = df['date']\n",
    "df1 = df['transaction_num'].resample('M',label='left').sum().to_frame()\n",
    "df2 = df1.pct_change()\n",
    "\n",
    "data = [go.Scatter(\n",
    "    x=df1.index,\n",
    "    y=df1['transaction_num'],\n",
    "    name='销量',\n",
    "            marker=dict(color='#4ea1d3')\n",
    "),\n",
    "    go.Bar(\n",
    "       x=df2.index,\n",
    "    y=df2['transaction_num'],\n",
    "           yaxis='y2',\n",
    "           opacity=0.6,\n",
    "           name='环比增长',\n",
    "    marker=dict(color='#d8e9ef')\n",
    "       )]\n",
    "\n",
    "layout = go.Layout(\n",
    "    title='2018月销量，年度总和='+transaction_year+'笔',\n",
    "    yaxis=dict(\n",
    "        title='销量'\n",
    "    ),\n",
    "    yaxis2=dict(\n",
    "        title='环比增长',\n",
    "        tickformat=\".1%\",\n",
    "        overlaying='y',\n",
    "        side='right'\n",
    "    ),\n",
    "    legend=dict(orientation=\"h\"),\n",
    "    font=dict(family='微软雅黑')\n",
    ")\n",
    "\n",
    "fig = go.Figure(data=data, layout=layout)\n",
    "\n",
    "plotly.offline.iplot(fig)\n",
    "pio.write_image(fig, '月销量.jpeg', scale=5, width=600, height = 400)"
   ]
  },
  {
   "cell_type": "code",
   "execution_count": 37,
   "metadata": {},
   "outputs": [
    {
     "data": {
      "application/vnd.plotly.v1+json": {
       "config": {
        "linkText": "Export to plot.ly",
        "plotlyServerURL": "https://plot.ly",
        "responsive": true,
        "showLink": false
       },
       "data": [
        {
         "marker": {
          "color": "#4ea1d3"
         },
         "type": "bar",
         "uid": "cb6277e7-f710-4244-ba13-9b2b33af33a8",
         "x": [
          "舒缦",
          "蒂斯",
          "4D磁悬浮",
          "云朗",
          "月光宝盒",
          "尊亲",
          "乳胶",
          "畅眠",
          "椰棕",
          "小喜",
          "软硬两面",
          "诺蓝"
         ],
         "y": [
          2497.841095890411,
          2003.3123287671233,
          1800.8821917808218,
          1798.0849315068492,
          1598.5780821917808,
          1593.9835616438356,
          1500.7205479452055,
          1491.8849315068494,
          1398.7150684931507,
          1294.0794520547945,
          1199.8109589041096,
          1194.7808219178082
         ]
        }
       ],
       "layout": {
        "font": {
         "family": "微软雅黑"
        },
        "title": {
         "text": "单件平均利润（元）"
        }
       }
      },
      "text/html": [
       "<div>\n",
       "        \n",
       "        \n",
       "            <div id=\"3119efde-445d-43ae-9e12-fd73d7863271\" class=\"plotly-graph-div\" style=\"height:525px; width:100%;\"></div>\n",
       "            <script type=\"text/javascript\">\n",
       "                require([\"plotly\"], function(Plotly) {\n",
       "                    window.PLOTLYENV=window.PLOTLYENV || {};\n",
       "                    window.PLOTLYENV.BASE_URL='https://plot.ly';\n",
       "                    \n",
       "                if (document.getElementById(\"3119efde-445d-43ae-9e12-fd73d7863271\")) {\n",
       "                    Plotly.newPlot(\n",
       "                        '3119efde-445d-43ae-9e12-fd73d7863271',\n",
       "                        [{\"marker\": {\"color\": \"#4ea1d3\"}, \"type\": \"bar\", \"uid\": \"224ca113-2c00-4a25-ab92-ad28c2917204\", \"x\": [\"\\u8212\\u7f26\", \"\\u8482\\u65af\", \"4D\\u78c1\\u60ac\\u6d6e\", \"\\u4e91\\u6717\", \"\\u6708\\u5149\\u5b9d\\u76d2\", \"\\u5c0a\\u4eb2\", \"\\u4e73\\u80f6\", \"\\u7545\\u7720\", \"\\u6930\\u68d5\", \"\\u5c0f\\u559c\", \"\\u8f6f\\u786c\\u4e24\\u9762\", \"\\u8bfa\\u84dd\"], \"y\": [2497.841095890411, 2003.3123287671233, 1800.8821917808218, 1798.0849315068492, 1598.5780821917808, 1593.9835616438356, 1500.7205479452055, 1491.8849315068494, 1398.7150684931507, 1294.0794520547945, 1199.8109589041096, 1194.7808219178082]}],\n",
       "                        {\"font\": {\"family\": \"\\u5fae\\u8f6f\\u96c5\\u9ed1\"}, \"title\": {\"text\": \"\\u5355\\u4ef6\\u5e73\\u5747\\u5229\\u6da6\\uff08\\u5143\\uff09\"}},\n",
       "                        {\"showLink\": false, \"linkText\": \"Export to plot.ly\", \"plotlyServerURL\": \"https://plot.ly\", \"responsive\": true}\n",
       "                    ).then(function(){\n",
       "                            \n",
       "var gd = document.getElementById('3119efde-445d-43ae-9e12-fd73d7863271');\n",
       "var x = new MutationObserver(function (mutations, observer) {{\n",
       "        var display = window.getComputedStyle(gd).display;\n",
       "        if (!display || display === 'none') {{\n",
       "            console.log([gd, 'removed!']);\n",
       "            Plotly.purge(gd);\n",
       "            observer.disconnect();\n",
       "        }}\n",
       "}});\n",
       "\n",
       "// Listen for the removal of the full notebook cells\n",
       "var notebookContainer = gd.closest('#notebook-container');\n",
       "if (notebookContainer) {{\n",
       "    x.observe(notebookContainer, {childList: true});\n",
       "}}\n",
       "\n",
       "// Listen for the clearing of the current output cell\n",
       "var outputEl = gd.closest('.output');\n",
       "if (outputEl) {{\n",
       "    x.observe(outputEl, {childList: true});\n",
       "}}\n",
       "\n",
       "                        })\n",
       "                };\n",
       "                });\n",
       "            </script>\n",
       "        </div>"
      ]
     },
     "metadata": {},
     "output_type": "display_data"
    }
   ],
   "source": [
    "# SKU\n",
    "# profit per SKU unit\n",
    "df = SKU['unit_profit'].groupby(SKU['SKU']).mean().to_frame().sort_values(by=['unit_profit'],ascending=False)\n",
    "data = [go.Bar(\n",
    "    x=df.index,\n",
    "    y=df['unit_profit'],\n",
    "    marker=dict(color='#4ea1d3')\n",
    ")]\n",
    "layout = go.Layout(\n",
    "    title='单件平均利润（元）',\n",
    "    font=dict(family='微软雅黑')\n",
    ")\n",
    "\n",
    "fig = go.Figure(data=data, layout=layout)\n",
    "\n",
    "plotly.offline.iplot(fig)\n",
    "pio.write_image(fig, '单件利润.jpeg', scale=5, width=600, height = 400)"
   ]
  },
  {
   "cell_type": "code",
   "execution_count": 38,
   "metadata": {},
   "outputs": [
    {
     "data": {
      "application/vnd.plotly.v1+json": {
       "config": {
        "linkText": "Export to plot.ly",
        "plotlyServerURL": "https://plot.ly",
        "responsive": true,
        "showLink": false
       },
       "data": [
        {
         "marker": {
          "color": "#4ea1d3"
         },
         "type": "bar",
         "uid": "d0ec7c74-cb7a-4524-93dc-aaaa778a438b",
         "x": [
          "4D磁悬浮",
          "月光宝盒",
          "云朗",
          "诺蓝",
          "软硬两面",
          "乳胶",
          "畅眠",
          "椰棕",
          "尊亲",
          "小喜",
          "蒂斯",
          "舒缦"
         ],
         "y": [
          16873,
          8843,
          6197,
          3471,
          2973,
          2064,
          1997,
          1993,
          1659,
          1631,
          1624,
          1594
         ]
        }
       ],
       "layout": {
        "font": {
         "family": "微软雅黑"
        },
        "title": {
         "text": "床垫年销量（件）"
        }
       }
      },
      "text/html": [
       "<div>\n",
       "        \n",
       "        \n",
       "            <div id=\"b1878b65-3aed-444c-94f8-3a5948e3cee4\" class=\"plotly-graph-div\" style=\"height:525px; width:100%;\"></div>\n",
       "            <script type=\"text/javascript\">\n",
       "                require([\"plotly\"], function(Plotly) {\n",
       "                    window.PLOTLYENV=window.PLOTLYENV || {};\n",
       "                    window.PLOTLYENV.BASE_URL='https://plot.ly';\n",
       "                    \n",
       "                if (document.getElementById(\"b1878b65-3aed-444c-94f8-3a5948e3cee4\")) {\n",
       "                    Plotly.newPlot(\n",
       "                        'b1878b65-3aed-444c-94f8-3a5948e3cee4',\n",
       "                        [{\"marker\": {\"color\": \"#4ea1d3\"}, \"type\": \"bar\", \"uid\": \"3e1ffbe8-b4f8-40e5-8f83-9081e5c75bf7\", \"x\": [\"4D\\u78c1\\u60ac\\u6d6e\", \"\\u6708\\u5149\\u5b9d\\u76d2\", \"\\u4e91\\u6717\", \"\\u8bfa\\u84dd\", \"\\u8f6f\\u786c\\u4e24\\u9762\", \"\\u4e73\\u80f6\", \"\\u7545\\u7720\", \"\\u6930\\u68d5\", \"\\u5c0a\\u4eb2\", \"\\u5c0f\\u559c\", \"\\u8482\\u65af\", \"\\u8212\\u7f26\"], \"y\": [16873, 8843, 6197, 3471, 2973, 2064, 1997, 1993, 1659, 1631, 1624, 1594]}],\n",
       "                        {\"font\": {\"family\": \"\\u5fae\\u8f6f\\u96c5\\u9ed1\"}, \"title\": {\"text\": \"\\u5e8a\\u57ab\\u5e74\\u9500\\u91cf\\uff08\\u4ef6\\uff09\"}},\n",
       "                        {\"showLink\": false, \"linkText\": \"Export to plot.ly\", \"plotlyServerURL\": \"https://plot.ly\", \"responsive\": true}\n",
       "                    ).then(function(){\n",
       "                            \n",
       "var gd = document.getElementById('b1878b65-3aed-444c-94f8-3a5948e3cee4');\n",
       "var x = new MutationObserver(function (mutations, observer) {{\n",
       "        var display = window.getComputedStyle(gd).display;\n",
       "        if (!display || display === 'none') {{\n",
       "            console.log([gd, 'removed!']);\n",
       "            Plotly.purge(gd);\n",
       "            observer.disconnect();\n",
       "        }}\n",
       "}});\n",
       "\n",
       "// Listen for the removal of the full notebook cells\n",
       "var notebookContainer = gd.closest('#notebook-container');\n",
       "if (notebookContainer) {{\n",
       "    x.observe(notebookContainer, {childList: true});\n",
       "}}\n",
       "\n",
       "// Listen for the clearing of the current output cell\n",
       "var outputEl = gd.closest('.output');\n",
       "if (outputEl) {{\n",
       "    x.observe(outputEl, {childList: true});\n",
       "}}\n",
       "\n",
       "                        })\n",
       "                };\n",
       "                });\n",
       "            </script>\n",
       "        </div>"
      ]
     },
     "metadata": {},
     "output_type": "display_data"
    }
   ],
   "source": [
    "# SKU\n",
    "# profit per SKU unit\n",
    "df = SKU['transaction_num'].groupby(SKU['SKU']).sum().to_frame().sort_values(by=['transaction_num'],ascending=False)\n",
    "data = [go.Bar(\n",
    "    x=df.index,\n",
    "    y=df['transaction_num'],\n",
    "    marker=dict(color='#4ea1d3')\n",
    ")]\n",
    "layout = go.Layout(\n",
    "    title='床垫年销量（件）',\n",
    "    font=dict(family='微软雅黑')\n",
    ")\n",
    "\n",
    "fig = go.Figure(data=data, layout=layout)\n",
    "\n",
    "plotly.offline.iplot(fig)\n",
    "pio.write_image(fig, '单件销量.jpeg', scale=5, width=600, height = 400)"
   ]
  },
  {
   "cell_type": "code",
   "execution_count": 3,
   "metadata": {},
   "outputs": [
    {
     "data": {
      "application/vnd.plotly.v1+json": {
       "config": {
        "linkText": "Export to plot.ly",
        "plotlyServerURL": "https://plot.ly",
        "responsive": true,
        "showLink": false
       },
       "data": [
        {
         "marker": {
          "color": "#4ea1d3"
         },
         "name": "试睡次数",
         "type": "bar",
         "uid": "062c7fb6-4b9e-40cf-8308-a921ae83d375",
         "x": [
          "4D磁悬浮",
          "月光宝盒",
          "软硬两面",
          "云朗",
          "蒂斯",
          "乳胶",
          "诺蓝",
          "小喜",
          "尊亲",
          "椰棕",
          "畅眠",
          "舒缦"
         ],
         "y": [
          199.8,
          189.7,
          104.1,
          81.8,
          56.8,
          49.7,
          43.4,
          37.2,
          36.9,
          33.9,
          26.9,
          24.8
         ]
        },
        {
         "marker": {
          "color": "#e85a71"
         },
         "name": "交易量",
         "type": "bar",
         "uid": "e1087d20-4101-4bc6-a5b2-cce8efdfcce4",
         "x": [
          "4D磁悬浮",
          "月光宝盒",
          "软硬两面",
          "云朗",
          "蒂斯",
          "乳胶",
          "诺蓝",
          "小喜",
          "尊亲",
          "椰棕",
          "畅眠",
          "舒缦"
         ],
         "y": [
          46.2,
          24.2,
          8.1,
          17,
          4.4,
          5.7,
          9.5,
          4.5,
          4.5,
          5.5,
          5.5,
          4.4
         ]
        },
        {
         "marker": {
          "color": "#454552"
         },
         "name": "转化率",
         "type": "scatter",
         "uid": "09051f81-5a05-44c1-be75-aefdaf26e8ba",
         "x": [
          "4D磁悬浮",
          "月光宝盒",
          "软硬两面",
          "云朗",
          "蒂斯",
          "乳胶",
          "诺蓝",
          "小喜",
          "尊亲",
          "椰棕",
          "畅眠",
          "舒缦"
         ],
         "y": [
          0.23123123123123124,
          0.1275698471270427,
          0.07780979827089338,
          0.2078239608801956,
          0.07746478873239437,
          0.11468812877263582,
          0.21889400921658986,
          0.12096774193548386,
          0.12195121951219513,
          0.16224188790560473,
          0.20446096654275095,
          0.1774193548387097
         ],
         "yaxis": "y2"
        }
       ],
       "layout": {
        "barmode": "group",
        "font": {
         "family": "微软雅黑"
        },
        "legend": {
         "orientation": "h"
        },
        "title": {
         "text": "日均试睡次数vs交易量"
        },
        "yaxis": {
         "title": {
          "text": "试睡次数、交易量"
         }
        },
        "yaxis2": {
         "overlaying": "y",
         "side": "right",
         "tickformat": ".0%",
         "title": {
          "text": "转化率"
         }
        }
       }
      },
      "text/html": [
       "<div>\n",
       "        \n",
       "        \n",
       "            <div id=\"cefd4c68-77bb-426f-bc2b-e70c75c402b5\" class=\"plotly-graph-div\" style=\"height:525px; width:100%;\"></div>\n",
       "            <script type=\"text/javascript\">\n",
       "                require([\"plotly\"], function(Plotly) {\n",
       "                    window.PLOTLYENV=window.PLOTLYENV || {};\n",
       "                    window.PLOTLYENV.BASE_URL='https://plot.ly';\n",
       "                    \n",
       "                if (document.getElementById(\"cefd4c68-77bb-426f-bc2b-e70c75c402b5\")) {\n",
       "                    Plotly.newPlot(\n",
       "                        'cefd4c68-77bb-426f-bc2b-e70c75c402b5',\n",
       "                        [{\"marker\": {\"color\": \"#4ea1d3\"}, \"name\": \"\\u8bd5\\u7761\\u6b21\\u6570\", \"type\": \"bar\", \"uid\": \"7fb1a875-4233-4059-845c-b78364b68cde\", \"x\": [\"4D\\u78c1\\u60ac\\u6d6e\", \"\\u6708\\u5149\\u5b9d\\u76d2\", \"\\u8f6f\\u786c\\u4e24\\u9762\", \"\\u4e91\\u6717\", \"\\u8482\\u65af\", \"\\u4e73\\u80f6\", \"\\u8bfa\\u84dd\", \"\\u5c0f\\u559c\", \"\\u5c0a\\u4eb2\", \"\\u6930\\u68d5\", \"\\u7545\\u7720\", \"\\u8212\\u7f26\"], \"y\": [199.8, 189.7, 104.1, 81.8, 56.8, 49.7, 43.4, 37.2, 36.9, 33.9, 26.9, 24.8]}, {\"marker\": {\"color\": \"#e85a71\"}, \"name\": \"\\u4ea4\\u6613\\u91cf\", \"type\": \"bar\", \"uid\": \"4cfb45f2-aef3-40de-b9fe-857616a3eef9\", \"x\": [\"4D\\u78c1\\u60ac\\u6d6e\", \"\\u6708\\u5149\\u5b9d\\u76d2\", \"\\u8f6f\\u786c\\u4e24\\u9762\", \"\\u4e91\\u6717\", \"\\u8482\\u65af\", \"\\u4e73\\u80f6\", \"\\u8bfa\\u84dd\", \"\\u5c0f\\u559c\", \"\\u5c0a\\u4eb2\", \"\\u6930\\u68d5\", \"\\u7545\\u7720\", \"\\u8212\\u7f26\"], \"y\": [46.2, 24.2, 8.1, 17.0, 4.4, 5.7, 9.5, 4.5, 4.5, 5.5, 5.5, 4.4]}, {\"marker\": {\"color\": \"#454552\"}, \"name\": \"\\u8f6c\\u5316\\u7387\", \"type\": \"scatter\", \"uid\": \"2549e8a5-d28b-4485-aa7f-17b5498da5ee\", \"x\": [\"4D\\u78c1\\u60ac\\u6d6e\", \"\\u6708\\u5149\\u5b9d\\u76d2\", \"\\u8f6f\\u786c\\u4e24\\u9762\", \"\\u4e91\\u6717\", \"\\u8482\\u65af\", \"\\u4e73\\u80f6\", \"\\u8bfa\\u84dd\", \"\\u5c0f\\u559c\", \"\\u5c0a\\u4eb2\", \"\\u6930\\u68d5\", \"\\u7545\\u7720\", \"\\u8212\\u7f26\"], \"y\": [0.23123123123123124, 0.1275698471270427, 0.07780979827089338, 0.2078239608801956, 0.07746478873239437, 0.11468812877263582, 0.21889400921658986, 0.12096774193548386, 0.12195121951219513, 0.16224188790560473, 0.20446096654275095, 0.1774193548387097], \"yaxis\": \"y2\"}],\n",
       "                        {\"barmode\": \"group\", \"font\": {\"family\": \"\\u5fae\\u8f6f\\u96c5\\u9ed1\"}, \"legend\": {\"orientation\": \"h\"}, \"title\": {\"text\": \"\\u65e5\\u5747\\u8bd5\\u7761\\u6b21\\u6570vs\\u4ea4\\u6613\\u91cf\"}, \"yaxis\": {\"title\": {\"text\": \"\\u8bd5\\u7761\\u6b21\\u6570\\u3001\\u4ea4\\u6613\\u91cf\"}}, \"yaxis2\": {\"overlaying\": \"y\", \"side\": \"right\", \"tickformat\": \".0%\", \"title\": {\"text\": \"\\u8f6c\\u5316\\u7387\"}}},\n",
       "                        {\"showLink\": false, \"linkText\": \"Export to plot.ly\", \"plotlyServerURL\": \"https://plot.ly\", \"responsive\": true}\n",
       "                    ).then(function(){\n",
       "                            \n",
       "var gd = document.getElementById('cefd4c68-77bb-426f-bc2b-e70c75c402b5');\n",
       "var x = new MutationObserver(function (mutations, observer) {{\n",
       "        var display = window.getComputedStyle(gd).display;\n",
       "        if (!display || display === 'none') {{\n",
       "            console.log([gd, 'removed!']);\n",
       "            Plotly.purge(gd);\n",
       "            observer.disconnect();\n",
       "        }}\n",
       "}});\n",
       "\n",
       "// Listen for the removal of the full notebook cells\n",
       "var notebookContainer = gd.closest('#notebook-container');\n",
       "if (notebookContainer) {{\n",
       "    x.observe(notebookContainer, {childList: true});\n",
       "}}\n",
       "\n",
       "// Listen for the clearing of the current output cell\n",
       "var outputEl = gd.closest('.output');\n",
       "if (outputEl) {{\n",
       "    x.observe(outputEl, {childList: true});\n",
       "}}\n",
       "\n",
       "                        })\n",
       "                };\n",
       "                });\n",
       "            </script>\n",
       "        </div>"
      ]
     },
     "metadata": {},
     "output_type": "display_data"
    }
   ],
   "source": [
    "# try vs transaction\n",
    "df = SKU[['try_num','transaction_num']].groupby(SKU['SKU']).mean().sort_values(by=['try_num'],ascending=False).round(1)\n",
    "df['conversion'] = df['transaction_num']/df['try_num']\n",
    "\n",
    "trace1 = go.Bar(\n",
    "    x=df.index,\n",
    "    y=df['try_num'],\n",
    "    name='试睡次数',\n",
    "    marker=dict(color='#4ea1d3')\n",
    ")\n",
    "trace2 = go.Bar(\n",
    "    x=df.index,\n",
    "    y=df['transaction_num'],\n",
    "    name='交易量',\n",
    "    marker=dict(color='#e85a71')\n",
    ")\n",
    "trace3 = go.Scatter(\n",
    "    x=df.index,\n",
    "    y=df['conversion'],\n",
    "    name='转化率',\n",
    "    yaxis='y2',\n",
    "    marker=dict(color='#454552')\n",
    ")\n",
    "\n",
    "data = [trace1, trace2, trace3]\n",
    "layout = go.Layout(\n",
    "    barmode='group',\n",
    "    title='日均试睡次数vs交易量',\n",
    "    yaxis=dict(\n",
    "        title='试睡次数、交易量'\n",
    "    ),\n",
    "    yaxis2=dict(\n",
    "        title='转化率',\n",
    "        tickformat=\".0%\",\n",
    "        overlaying='y',\n",
    "        side='right'\n",
    "    ),\n",
    "    legend=dict(orientation=\"h\"),\n",
    "    font=dict(family='微软雅黑')\n",
    "    \n",
    ")\n",
    "\n",
    "fig = go.Figure(data=data, layout=layout)\n",
    "\n",
    "plotly.offline.iplot(fig)\n",
    "pio.write_image(fig, '试睡和销量.jpeg', scale=5, width=1200, height = 400)"
   ]
  },
  {
   "cell_type": "code",
   "execution_count": 24,
   "metadata": {},
   "outputs": [
    {
     "data": {
      "application/vnd.plotly.v1+json": {
       "config": {
        "linkText": "Export to plot.ly",
        "plotlyServerURL": "https://plot.ly",
        "responsive": true,
        "showLink": false
       },
       "data": [
        {
         "name": "利润",
         "type": "bar",
         "uid": "e3f4e3e5-6579-4d94-a753-1eb5e694aaf5",
         "x": [
          "中区1",
          "中区2",
          "进门区",
          "里间"
         ],
         "y": [
          946,
          1439.5,
          4452.2,
          1585.9
         ]
        },
        {
         "name": "交易量",
         "type": "scatter",
         "uid": "2de653f2-b891-46c3-8ba2-645f07ea6a3a",
         "x": [
          "中区1",
          "中区2",
          "进门区",
          "里间"
         ],
         "y": [
          7030,
          7821,
          25716,
          10352
         ],
         "yaxis": "y2"
        }
       ],
       "layout": {
        "barmode": "group",
        "font": {
         "family": "微软雅黑"
        },
        "legend": {
         "orientation": "h"
        },
        "title": {
         "text": "各区域总利润及交易量"
        },
        "yaxis": {
         "title": {
          "text": "总利润（万元）"
         }
        },
        "yaxis2": {
         "overlaying": "y",
         "side": "right",
         "title": {
          "text": "交易量（笔）"
         }
        }
       }
      },
      "text/html": [
       "<div>\n",
       "        \n",
       "        \n",
       "            <div id=\"09ce58cf-6fe0-4bbf-bbf8-187a856d4f20\" class=\"plotly-graph-div\" style=\"height:525px; width:100%;\"></div>\n",
       "            <script type=\"text/javascript\">\n",
       "                require([\"plotly\"], function(Plotly) {\n",
       "                    window.PLOTLYENV=window.PLOTLYENV || {};\n",
       "                    window.PLOTLYENV.BASE_URL='https://plot.ly';\n",
       "                    \n",
       "                if (document.getElementById(\"09ce58cf-6fe0-4bbf-bbf8-187a856d4f20\")) {\n",
       "                    Plotly.newPlot(\n",
       "                        '09ce58cf-6fe0-4bbf-bbf8-187a856d4f20',\n",
       "                        [{\"name\": \"\\u5229\\u6da6\", \"type\": \"bar\", \"uid\": \"2dbed8fd-2a42-4f81-b75c-5d7a8acd8adb\", \"x\": [\"\\u4e2d\\u533a1\", \"\\u4e2d\\u533a2\", \"\\u8fdb\\u95e8\\u533a\", \"\\u91cc\\u95f4\"], \"y\": [946.0, 1439.5, 4452.2, 1585.9]}, {\"name\": \"\\u4ea4\\u6613\\u91cf\", \"type\": \"scatter\", \"uid\": \"200f8177-205c-4501-a02a-440beaa8e84d\", \"x\": [\"\\u4e2d\\u533a1\", \"\\u4e2d\\u533a2\", \"\\u8fdb\\u95e8\\u533a\", \"\\u91cc\\u95f4\"], \"y\": [7030, 7821, 25716, 10352], \"yaxis\": \"y2\"}],\n",
       "                        {\"barmode\": \"group\", \"font\": {\"family\": \"\\u5fae\\u8f6f\\u96c5\\u9ed1\"}, \"legend\": {\"orientation\": \"h\"}, \"title\": {\"text\": \"\\u5404\\u533a\\u57df\\u603b\\u5229\\u6da6\\u53ca\\u4ea4\\u6613\\u91cf\"}, \"yaxis\": {\"title\": {\"text\": \"\\u603b\\u5229\\u6da6\\uff08\\u4e07\\u5143\\uff09\"}}, \"yaxis2\": {\"overlaying\": \"y\", \"side\": \"right\", \"title\": {\"text\": \"\\u4ea4\\u6613\\u91cf\\uff08\\u7b14\\uff09\"}}},\n",
       "                        {\"showLink\": false, \"linkText\": \"Export to plot.ly\", \"plotlyServerURL\": \"https://plot.ly\", \"responsive\": true}\n",
       "                    ).then(function(){\n",
       "                            \n",
       "var gd = document.getElementById('09ce58cf-6fe0-4bbf-bbf8-187a856d4f20');\n",
       "var x = new MutationObserver(function (mutations, observer) {{\n",
       "        var display = window.getComputedStyle(gd).display;\n",
       "        if (!display || display === 'none') {{\n",
       "            console.log([gd, 'removed!']);\n",
       "            Plotly.purge(gd);\n",
       "            observer.disconnect();\n",
       "        }}\n",
       "}});\n",
       "\n",
       "// Listen for the removal of the full notebook cells\n",
       "var notebookContainer = gd.closest('#notebook-container');\n",
       "if (notebookContainer) {{\n",
       "    x.observe(notebookContainer, {childList: true});\n",
       "}}\n",
       "\n",
       "// Listen for the clearing of the current output cell\n",
       "var outputEl = gd.closest('.output');\n",
       "if (outputEl) {{\n",
       "    x.observe(outputEl, {childList: true});\n",
       "}}\n",
       "\n",
       "                        })\n",
       "                };\n",
       "                });\n",
       "            </script>\n",
       "        </div>"
      ]
     },
     "metadata": {},
     "output_type": "display_data"
    }
   ],
   "source": [
    "\n",
    "# profit per zone\n",
    "df = SKU[['profit_day_sum','transaction_num']].groupby(SKU['zoneID']).sum()\n",
    "df['profit_day_sum'] = (df['profit_day_sum']/10000).round(1)\n",
    "\n",
    "trace1 = go.Bar(\n",
    "    x=df.index,\n",
    "    y=df['profit_day_sum'],\n",
    "    name='利润'\n",
    ")\n",
    "trace2 = go.Scatter(\n",
    "    x=df.index,\n",
    "    y=df['transaction_num'],\n",
    "    name='交易量',\n",
    "    yaxis='y2'\n",
    ")\n",
    "\n",
    "\n",
    "data = [trace1, trace2]\n",
    "layout = go.Layout(\n",
    "    barmode='group',\n",
    "    title='各区域总利润及交易量',\n",
    "    yaxis=dict(\n",
    "        title='总利润（万元）'\n",
    "    ),\n",
    "    yaxis2=dict(\n",
    "        title='交易量（笔）',\n",
    "        overlaying='y',\n",
    "        side='right'\n",
    "    ),\n",
    "    legend=dict(orientation=\"h\"),\n",
    "    font=dict(family='微软雅黑')\n",
    "    \n",
    ")\n",
    "\n",
    "fig = go.Figure(data=data, layout=layout)\n",
    "\n",
    "plotly.offline.iplot(fig)"
   ]
  },
  {
   "cell_type": "code",
   "execution_count": 40,
   "metadata": {},
   "outputs": [
    {
     "data": {
      "application/vnd.plotly.v1+json": {
       "config": {
        "linkText": "Export to plot.ly",
        "plotlyServerURL": "https://plot.ly",
        "responsive": true,
        "showLink": false
       },
       "data": [
        {
         "hoverinfo": "text",
         "marker": {
          "color": [
           "#e85a71",
           "#4ea1d3",
           "#4ea1d3",
           "#4ea1d3"
          ],
          "size": [
           62.30440967283072,
           34.22409751523676,
           18.92466428164048,
           47.0118495620814
          ]
         },
         "mode": "markers+text",
         "text": [
          "中区1",
          "中区2",
          "进门区",
          "里间"
         ],
         "type": "scatter",
         "uid": "3476e77a-5013-4927-bba0-a5e493255e31",
         "x": [
          6.420091324200913,
          10.713698630136987,
          35.227397260273975,
          5.672328767123288
         ],
         "y": [
          1200,
          1100,
          2000,
          800
         ]
        }
       ],
       "layout": {
        "font": {
         "family": "微软雅黑"
        },
        "title": {
         "text": "各区域日均人流量vs销量（圆圈大小=人流量/销量）"
        },
        "xaxis": {
         "title": {
          "text": "销量"
         }
        },
        "yaxis": {
         "title": {
          "text": "人流量"
         }
        }
       }
      },
      "text/html": [
       "<div>\n",
       "        \n",
       "        \n",
       "            <div id=\"e9d14f76-b624-47b6-897c-e5a1d82ffde1\" class=\"plotly-graph-div\" style=\"height:525px; width:100%;\"></div>\n",
       "            <script type=\"text/javascript\">\n",
       "                require([\"plotly\"], function(Plotly) {\n",
       "                    window.PLOTLYENV=window.PLOTLYENV || {};\n",
       "                    window.PLOTLYENV.BASE_URL='https://plot.ly';\n",
       "                    \n",
       "                if (document.getElementById(\"e9d14f76-b624-47b6-897c-e5a1d82ffde1\")) {\n",
       "                    Plotly.newPlot(\n",
       "                        'e9d14f76-b624-47b6-897c-e5a1d82ffde1',\n",
       "                        [{\"hoverinfo\": \"text\", \"marker\": {\"color\": [\"#e85a71\", \"#4ea1d3\", \"#4ea1d3\", \"#4ea1d3\"], \"size\": [62.30440967283072, 34.22409751523676, 18.92466428164048, 47.0118495620814]}, \"mode\": \"markers+text\", \"text\": [\"\\u4e2d\\u533a1\", \"\\u4e2d\\u533a2\", \"\\u8fdb\\u95e8\\u533a\", \"\\u91cc\\u95f4\"], \"type\": \"scatter\", \"uid\": \"495d8b3b-b16c-4eb7-9471-90c0515fda7f\", \"x\": [6.420091324200913, 10.713698630136987, 35.227397260273975, 5.672328767123288], \"y\": [1200, 1100, 2000, 800]}],\n",
       "                        {\"font\": {\"family\": \"\\u5fae\\u8f6f\\u96c5\\u9ed1\"}, \"title\": {\"text\": \"\\u5404\\u533a\\u57df\\u65e5\\u5747\\u4eba\\u6d41\\u91cfvs\\u9500\\u91cf\\uff08\\u5706\\u5708\\u5927\\u5c0f=\\u4eba\\u6d41\\u91cf/\\u9500\\u91cf\\uff09\"}, \"xaxis\": {\"title\": {\"text\": \"\\u9500\\u91cf\"}}, \"yaxis\": {\"title\": {\"text\": \"\\u4eba\\u6d41\\u91cf\"}}},\n",
       "                        {\"showLink\": false, \"linkText\": \"Export to plot.ly\", \"plotlyServerURL\": \"https://plot.ly\", \"responsive\": true}\n",
       "                    ).then(function(){\n",
       "                            \n",
       "var gd = document.getElementById('e9d14f76-b624-47b6-897c-e5a1d82ffde1');\n",
       "var x = new MutationObserver(function (mutations, observer) {{\n",
       "        var display = window.getComputedStyle(gd).display;\n",
       "        if (!display || display === 'none') {{\n",
       "            console.log([gd, 'removed!']);\n",
       "            Plotly.purge(gd);\n",
       "            observer.disconnect();\n",
       "        }}\n",
       "}});\n",
       "\n",
       "// Listen for the removal of the full notebook cells\n",
       "var notebookContainer = gd.closest('#notebook-container');\n",
       "if (notebookContainer) {{\n",
       "    x.observe(notebookContainer, {childList: true});\n",
       "}}\n",
       "\n",
       "// Listen for the clearing of the current output cell\n",
       "var outputEl = gd.closest('.output');\n",
       "if (outputEl) {{\n",
       "    x.observe(outputEl, {childList: true});\n",
       "}}\n",
       "\n",
       "                        })\n",
       "                };\n",
       "                });\n",
       "            </script>\n",
       "        </div>"
      ]
     },
     "metadata": {},
     "output_type": "display_data"
    }
   ],
   "source": [
    "# profit per zone\n",
    "df = SKU[['transaction_num']].groupby(SKU['zoneID']).mean()\n",
    "df['ppl'] = [1200, 1100, 2000, 800]\n",
    "df['ppl_per_trans'] = df['ppl']/df['transaction_num']\n",
    "colors = ['#e85a71','#4ea1d3','#4ea1d3','#4ea1d3']\n",
    "p1 = go.Scatter(x=df['transaction_num'], \n",
    "                y=df['ppl'],\n",
    "                text=df.index,\n",
    "               mode='markers+text',\n",
    "                hoverinfo='text',\n",
    "               marker=dict(\n",
    "                   size=df['ppl_per_trans']/3,\n",
    "                   color = colors))\n",
    "\n",
    "layout = go.Layout(title='各区域日均人流量vs销量（圆圈大小=人流量/销量）',\n",
    "                   yaxis=dict(title='人流量'),\n",
    "                  xaxis=dict(title='销量'),\n",
    "                  font=dict(family='微软雅黑'))\n",
    "\n",
    "fig = go.Figure(data=[p1], layout=layout)\n",
    "plotly.offline.iplot(fig)\n",
    "pio.write_image(fig, '各区表现.jpeg', scale=5, width=1200, height = 400)"
   ]
  },
  {
   "cell_type": "code",
   "execution_count": null,
   "metadata": {},
   "outputs": [],
   "source": []
  }
 ],
 "metadata": {
  "kernelspec": {
   "display_name": "Python 3",
   "language": "python",
   "name": "python3"
  },
  "language_info": {
   "codemirror_mode": {
    "name": "ipython",
    "version": 3
   },
   "file_extension": ".py",
   "mimetype": "text/x-python",
   "name": "python",
   "nbconvert_exporter": "python",
   "pygments_lexer": "ipython3",
   "version": "3.7.1"
  }
 },
 "nbformat": 4,
 "nbformat_minor": 2
}
