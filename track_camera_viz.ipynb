{
 "cells": [
  {
   "cell_type": "code",
   "execution_count": 47,
   "metadata": {},
   "outputs": [
    {
     "data": {
      "text/html": [
       "        <script type=\"text/javascript\">\n",
       "        window.PlotlyConfig = {MathJaxConfig: 'local'};\n",
       "        if (window.MathJax) {MathJax.Hub.Config({SVG: {font: \"STIX-Web\"}});}\n",
       "        if (typeof require !== 'undefined') {\n",
       "        require.undef(\"plotly\");\n",
       "        requirejs.config({\n",
       "            paths: {\n",
       "                'plotly': ['https://cdn.plot.ly/plotly-latest.min']\n",
       "            }\n",
       "        });\n",
       "        require(['plotly'], function(Plotly) {\n",
       "            window._Plotly = Plotly;\n",
       "        });\n",
       "        }\n",
       "        </script>\n",
       "        "
      ]
     },
     "metadata": {},
     "output_type": "display_data"
    },
    {
     "data": {
      "text/html": [
       "<div>\n",
       "<style scoped>\n",
       "    .dataframe tbody tr th:only-of-type {\n",
       "        vertical-align: middle;\n",
       "    }\n",
       "\n",
       "    .dataframe tbody tr th {\n",
       "        vertical-align: top;\n",
       "    }\n",
       "\n",
       "    .dataframe thead th {\n",
       "        text-align: right;\n",
       "    }\n",
       "</style>\n",
       "<table border=\"1\" class=\"dataframe\">\n",
       "  <thead>\n",
       "    <tr style=\"text-align: right;\">\n",
       "      <th></th>\n",
       "      <th>timestamp</th>\n",
       "      <th>cameraID</th>\n",
       "      <th>from</th>\n",
       "      <th>to</th>\n",
       "      <th>stay</th>\n",
       "    </tr>\n",
       "  </thead>\n",
       "  <tbody>\n",
       "    <tr>\n",
       "      <th>0</th>\n",
       "      <td>2019-05-10 10:00:03</td>\n",
       "      <td>2</td>\n",
       "      <td>中区1</td>\n",
       "      <td>进门区</td>\n",
       "      <td>558</td>\n",
       "    </tr>\n",
       "    <tr>\n",
       "      <th>1</th>\n",
       "      <td>2019-05-10 10:00:55</td>\n",
       "      <td>2</td>\n",
       "      <td>里间</td>\n",
       "      <td>中区2</td>\n",
       "      <td>416</td>\n",
       "    </tr>\n",
       "    <tr>\n",
       "      <th>2</th>\n",
       "      <td>2019-05-10 10:05:19</td>\n",
       "      <td>2</td>\n",
       "      <td>进门区</td>\n",
       "      <td>中区2</td>\n",
       "      <td>105</td>\n",
       "    </tr>\n",
       "    <tr>\n",
       "      <th>3</th>\n",
       "      <td>2019-05-10 10:06:50</td>\n",
       "      <td>2</td>\n",
       "      <td>进门区</td>\n",
       "      <td>中区2</td>\n",
       "      <td>99</td>\n",
       "    </tr>\n",
       "    <tr>\n",
       "      <th>4</th>\n",
       "      <td>2019-05-10 10:07:17</td>\n",
       "      <td>2</td>\n",
       "      <td>进门区</td>\n",
       "      <td>中区2</td>\n",
       "      <td>60</td>\n",
       "    </tr>\n",
       "  </tbody>\n",
       "</table>\n",
       "</div>"
      ],
      "text/plain": [
       "             timestamp  cameraID from   to  stay\n",
       "0  2019-05-10 10:00:03         2  中区1  进门区   558\n",
       "1  2019-05-10 10:00:55         2   里间  中区2   416\n",
       "2  2019-05-10 10:05:19         2  进门区  中区2   105\n",
       "3  2019-05-10 10:06:50         2  进门区  中区2    99\n",
       "4  2019-05-10 10:07:17         2  进门区  中区2    60"
      ]
     },
     "execution_count": 47,
     "metadata": {},
     "output_type": "execute_result"
    }
   ],
   "source": [
    "\n",
    "import plotly \n",
    "import plotly.graph_objs as go\n",
    "import pandas as pd\n",
    "import numpy as np\n",
    "import plotly.io as pio\n",
    "import os\n",
    "\n",
    "\n",
    "# for ploting online plots, account info is needed\n",
    "# plotly.tools.set_credentials_file(username='ariellilili', api_key='X8MtW4k2mpBL5tUUHZdi')\n",
    "\n",
    "# create offline plots\n",
    "plotly.offline.init_notebook_mode(connected=True)\n",
    "\n",
    "track = pd.read_csv('track_camera.csv')\n",
    "track.head()"
   ]
  },
  {
   "cell_type": "code",
   "execution_count": 56,
   "metadata": {},
   "outputs": [
    {
     "data": {
      "application/vnd.plotly.v1+json": {
       "config": {
        "linkText": "Export to plot.ly",
        "plotlyServerURL": "https://plot.ly",
        "responsive": true,
        "showLink": false
       },
       "data": [
        {
         "marker": {
          "color": "#4ea1d3"
         },
         "opacity": 0.8,
         "text": [
          8.3,
          5.3,
          4.7,
          1.5
         ],
         "textposition": "inside",
         "type": "bar",
         "uid": "21147206-68df-4bfd-91ca-42944683dd80",
         "x": [
          "中区1",
          "里间",
          "中区2",
          "进门区"
         ],
         "y": [
          8.3,
          5.3,
          4.7,
          1.5
         ]
        }
       ],
       "layout": {
        "font": {
         "family": "微软雅黑"
        },
        "title": {
         "text": "各区域停留时间(分钟)"
        },
        "yaxis": {
         "showgrid": false,
         "showticklabels": false
        }
       }
      },
      "text/html": [
       "<div>\n",
       "        \n",
       "        \n",
       "            <div id=\"1647bae6-a68b-4f93-9089-ff5020bf1287\" class=\"plotly-graph-div\" style=\"height:525px; width:100%;\"></div>\n",
       "            <script type=\"text/javascript\">\n",
       "                require([\"plotly\"], function(Plotly) {\n",
       "                    window.PLOTLYENV=window.PLOTLYENV || {};\n",
       "                    window.PLOTLYENV.BASE_URL='https://plot.ly';\n",
       "                    \n",
       "                if (document.getElementById(\"1647bae6-a68b-4f93-9089-ff5020bf1287\")) {\n",
       "                    Plotly.newPlot(\n",
       "                        '1647bae6-a68b-4f93-9089-ff5020bf1287',\n",
       "                        [{\"marker\": {\"color\": \"#4ea1d3\"}, \"opacity\": 0.8, \"text\": [8.3, 5.3, 4.7, 1.5], \"textposition\": \"inside\", \"type\": \"bar\", \"uid\": \"eec19e19-85df-4161-93f6-179b17203c23\", \"x\": [\"\\u4e2d\\u533a1\", \"\\u91cc\\u95f4\", \"\\u4e2d\\u533a2\", \"\\u8fdb\\u95e8\\u533a\"], \"y\": [8.3, 5.3, 4.7, 1.5]}],\n",
       "                        {\"font\": {\"family\": \"\\u5fae\\u8f6f\\u96c5\\u9ed1\"}, \"title\": {\"text\": \"\\u5404\\u533a\\u57df\\u505c\\u7559\\u65f6\\u95f4(\\u5206\\u949f)\"}, \"yaxis\": {\"showgrid\": false, \"showticklabels\": false}},\n",
       "                        {\"showLink\": false, \"linkText\": \"Export to plot.ly\", \"plotlyServerURL\": \"https://plot.ly\", \"responsive\": true}\n",
       "                    ).then(function(){\n",
       "                            \n",
       "var gd = document.getElementById('1647bae6-a68b-4f93-9089-ff5020bf1287');\n",
       "var x = new MutationObserver(function (mutations, observer) {{\n",
       "        var display = window.getComputedStyle(gd).display;\n",
       "        if (!display || display === 'none') {{\n",
       "            console.log([gd, 'removed!']);\n",
       "            Plotly.purge(gd);\n",
       "            observer.disconnect();\n",
       "        }}\n",
       "}});\n",
       "\n",
       "// Listen for the removal of the full notebook cells\n",
       "var notebookContainer = gd.closest('#notebook-container');\n",
       "if (notebookContainer) {{\n",
       "    x.observe(notebookContainer, {childList: true});\n",
       "}}\n",
       "\n",
       "// Listen for the clearing of the current output cell\n",
       "var outputEl = gd.closest('.output');\n",
       "if (outputEl) {{\n",
       "    x.observe(outputEl, {childList: true});\n",
       "}}\n",
       "\n",
       "                        })\n",
       "                };\n",
       "                });\n",
       "            </script>\n",
       "        </div>"
      ]
     },
     "metadata": {},
     "output_type": "display_data"
    }
   ],
   "source": [
    "# bar plot - stay in each zone\n",
    "df= track['stay'].groupby(track['from']).mean().to_frame().sort_values(by=['stay'],ascending=False)\n",
    "# seconds to minutes\n",
    "df = df/60\n",
    "df['stay'] = df['stay'].round(1)\n",
    "\n",
    "data = [go.Bar(\n",
    "            x=df.index,\n",
    "            y=df['stay'],\n",
    "            text=df['stay'],\n",
    "            textposition = 'inside',\n",
    "    marker=dict(color='#4ea1d3'),\n",
    "    opacity=0.8\n",
    "        )]\n",
    "layout =  dict(\n",
    "    title = \"各区域停留时间(分钟)\",\n",
    "    yaxis=dict(\n",
    "        showticklabels=False,\n",
    "        showgrid=False\n",
    "    ),\n",
    "    font=dict(family='微软雅黑')\n",
    ")\n",
    "\n",
    "fig = dict(data=data, layout=layout)\n",
    "plotly.offline.iplot(fig)\n",
    "pio.write_image(fig, '各区停留时间.jpeg', scale=5, width=600, height = 400)"
   ]
  },
  {
   "cell_type": "code",
   "execution_count": 52,
   "metadata": {},
   "outputs": [
    {
     "data": {
      "application/vnd.plotly.v1+json": {
       "config": {
        "linkText": "Export to plot.ly",
        "plotlyServerURL": "https://plot.ly",
        "responsive": true,
        "showLink": false
       },
       "data": [
        {
         "link": {
          "color": [
           "#d8e9ef",
           "#d8e9ef",
           "#d8e9ef",
           "#d8e9ef",
           "#d8e9ef",
           "#d8e9ef",
           "#d8e9ef",
           "#d8e9ef"
          ],
          "source": [
           1,
           1,
           1,
           2,
           2,
           2,
           0,
           0
          ],
          "target": [
           4,
           3,
           6,
           5,
           3,
           6,
           1,
           2
          ],
          "value": [
           119,
           153,
           30,
           138,
           24,
           81,
           302,
           243
          ]
         },
         "node": {
          "color": [
           "#454552",
           "#454552",
           "#454552",
           "#e85a71",
           "#454552",
           "#454552",
           "#454552"
          ],
          "label": [
           "进门区",
           "中区1",
           "中区2",
           "进门区",
           "中区2",
           "中区1",
           "里间"
          ],
          "pad": 15,
          "thickness": 20
         },
         "type": "sankey",
         "uid": "44c1347a-662c-4d16-987b-064c2f803918"
        }
       ],
       "layout": {
        "font": {
         "family": "微软雅黑"
        },
        "title": {
         "text": "人流路线"
        }
       }
      },
      "text/html": [
       "<div>\n",
       "        \n",
       "        \n",
       "            <div id=\"ecb2062b-9cdc-44e3-b7ad-29af44359c74\" class=\"plotly-graph-div\" style=\"height:525px; width:100%;\"></div>\n",
       "            <script type=\"text/javascript\">\n",
       "                require([\"plotly\"], function(Plotly) {\n",
       "                    window.PLOTLYENV=window.PLOTLYENV || {};\n",
       "                    window.PLOTLYENV.BASE_URL='https://plot.ly';\n",
       "                    \n",
       "                if (document.getElementById(\"ecb2062b-9cdc-44e3-b7ad-29af44359c74\")) {\n",
       "                    Plotly.newPlot(\n",
       "                        'ecb2062b-9cdc-44e3-b7ad-29af44359c74',\n",
       "                        [{\"link\": {\"color\": [\"#d8e9ef\", \"#d8e9ef\", \"#d8e9ef\", \"#d8e9ef\", \"#d8e9ef\", \"#d8e9ef\", \"#d8e9ef\", \"#d8e9ef\"], \"source\": [1, 1, 1, 2, 2, 2, 0, 0], \"target\": [4, 3, 6, 5, 3, 6, 1, 2], \"value\": [119, 153, 30, 138, 24, 81, 302, 243]}, \"node\": {\"color\": [\"#454552\", \"#454552\", \"#454552\", \"#e85a71\", \"#454552\", \"#454552\", \"#454552\"], \"label\": [\"\\u8fdb\\u95e8\\u533a\", \"\\u4e2d\\u533a1\", \"\\u4e2d\\u533a2\", \"\\u8fdb\\u95e8\\u533a\", \"\\u4e2d\\u533a2\", \"\\u4e2d\\u533a1\", \"\\u91cc\\u95f4\"], \"pad\": 15, \"thickness\": 20}, \"type\": \"sankey\", \"uid\": \"eed7eaf3-6442-4e01-98ad-9ec3fbe14733\"}],\n",
       "                        {\"font\": {\"family\": \"\\u5fae\\u8f6f\\u96c5\\u9ed1\"}, \"title\": {\"text\": \"\\u4eba\\u6d41\\u8def\\u7ebf\"}},\n",
       "                        {\"showLink\": false, \"linkText\": \"Export to plot.ly\", \"plotlyServerURL\": \"https://plot.ly\", \"responsive\": true}\n",
       "                    ).then(function(){\n",
       "                            \n",
       "var gd = document.getElementById('ecb2062b-9cdc-44e3-b7ad-29af44359c74');\n",
       "var x = new MutationObserver(function (mutations, observer) {{\n",
       "        var display = window.getComputedStyle(gd).display;\n",
       "        if (!display || display === 'none') {{\n",
       "            console.log([gd, 'removed!']);\n",
       "            Plotly.purge(gd);\n",
       "            observer.disconnect();\n",
       "        }}\n",
       "}});\n",
       "\n",
       "// Listen for the removal of the full notebook cells\n",
       "var notebookContainer = gd.closest('#notebook-container');\n",
       "if (notebookContainer) {{\n",
       "    x.observe(notebookContainer, {childList: true});\n",
       "}}\n",
       "\n",
       "// Listen for the clearing of the current output cell\n",
       "var outputEl = gd.closest('.output');\n",
       "if (outputEl) {{\n",
       "    x.observe(outputEl, {childList: true});\n",
       "}}\n",
       "\n",
       "                        })\n",
       "                };\n",
       "                });\n",
       "            </script>\n",
       "        </div>"
      ]
     },
     "metadata": {},
     "output_type": "display_data"
    }
   ],
   "source": [
    "# Sankey diagram\n",
    "df = track.groupby(['from', 'to'],as_index=False)['timestamp'].count()\n",
    "df = df[:8]\n",
    "df['source_index'] = [1,1,1,2,2,2,0,0]\n",
    "df['target_index'] = [4,3,6,5,3,6,1,2]\n",
    "\n",
    "data = dict(\n",
    "    type='sankey',\n",
    "    node = dict(\n",
    "      pad = 15,\n",
    "      thickness = 20,\n",
    "      label = ['进门区','中区1','中区2','进门区','中区2','中区1','里间'],\n",
    "      color = ['#454552'] * 3 + ['#e85a71'] + ['#454552'] * 3\n",
    "    ),\n",
    "    link = dict(\n",
    "      source = df['source_index'],\n",
    "      target = df['target_index'],\n",
    "      value = df['timestamp'],\n",
    "    color = ['#d8e9ef'] * 8\n",
    "  ))\n",
    "\n",
    "# Setting up the layout settings in the \"layout\" argument\n",
    "layout =  dict(\n",
    "    title = \"人流路线\",\n",
    "    font=dict(family='微软雅黑')\n",
    ")\n",
    "\n",
    "fig = dict(data=[data], layout=layout)\n",
    "plotly.offline.iplot(fig)\n",
    "pio.write_image(fig, '人流路线.jpeg', scale=5, width=600, height = 400)"
   ]
  },
  {
   "cell_type": "code",
   "execution_count": 58,
   "metadata": {},
   "outputs": [
    {
     "data": {
      "application/vnd.plotly.v1+json": {
       "config": {
        "linkText": "Export to plot.ly",
        "plotlyServerURL": "https://plot.ly",
        "responsive": true,
        "showLink": false
       },
       "data": [
        {
         "marker": {
          "color": "#e85a71"
         },
         "mode": "lines",
         "name": "进门区",
         "type": "scatter",
         "uid": "b83a95fb-9005-43bb-ab03-2cada0c416a1",
         "x": [
          "2019-05-10 10:00:00",
          "2019-05-10 11:00:00",
          "2019-05-10 12:00:00",
          "2019-05-10 13:00:00",
          "2019-05-10 14:00:00",
          "2019-05-10 15:00:00",
          "2019-05-10 16:00:00",
          "2019-05-10 17:00:00",
          "2019-05-10 18:00:00",
          "2019-05-10 19:00:00",
          "2019-05-10 20:00:00",
          "2019-05-10 21:00:00"
         ],
         "y": [
          19,
          39,
          49,
          45,
          29,
          36,
          36,
          23,
          75,
          66,
          73,
          55
         ]
        },
        {
         "marker": {
          "color": "#4ea1d3"
         },
         "mode": "lines",
         "name": "中区1",
         "type": "scatter",
         "uid": "830a81bc-e1f7-4354-8464-04bd66f189f9",
         "x": [
          "2019-05-10 10:00:00",
          "2019-05-10 11:00:00",
          "2019-05-10 12:00:00",
          "2019-05-10 13:00:00",
          "2019-05-10 14:00:00",
          "2019-05-10 15:00:00",
          "2019-05-10 16:00:00",
          "2019-05-10 17:00:00",
          "2019-05-10 18:00:00",
          "2019-05-10 19:00:00",
          "2019-05-10 20:00:00",
          "2019-05-10 21:00:00"
         ],
         "y": [
          12,
          35,
          34,
          12,
          15,
          24,
          11,
          13,
          32,
          35,
          49,
          30
         ]
        },
        {
         "marker": {
          "color": "#ffc952"
         },
         "mode": "lines",
         "name": "中区2",
         "type": "scatter",
         "uid": "bf39895d-d718-42c8-97f9-54cae5e2eb37",
         "x": [
          "2019-05-10 10:00:00",
          "2019-05-10 11:00:00",
          "2019-05-10 12:00:00",
          "2019-05-10 13:00:00",
          "2019-05-10 14:00:00",
          "2019-05-10 15:00:00",
          "2019-05-10 16:00:00",
          "2019-05-10 17:00:00",
          "2019-05-10 18:00:00",
          "2019-05-10 19:00:00",
          "2019-05-10 20:00:00",
          "2019-05-10 21:00:00"
         ],
         "y": [
          12,
          21,
          29,
          12,
          10,
          18,
          8,
          8,
          33,
          41,
          20,
          31
         ]
        },
        {
         "marker": {
          "color": "#454552"
         },
         "mode": "lines",
         "name": "里间",
         "type": "scatter",
         "uid": "9589b243-fefb-4140-9e52-08fdb3c10cd3",
         "x": [
          "2019-05-10 10:00:00",
          "2019-05-10 11:00:00",
          "2019-05-10 12:00:00",
          "2019-05-10 13:00:00",
          "2019-05-10 14:00:00",
          "2019-05-10 15:00:00",
          "2019-05-10 16:00:00",
          "2019-05-10 17:00:00",
          "2019-05-10 18:00:00",
          "2019-05-10 19:00:00",
          "2019-05-10 20:00:00",
          "2019-05-10 21:00:00"
         ],
         "y": [
          7,
          10,
          8,
          6,
          5,
          7,
          8,
          0,
          11,
          17,
          19,
          13
         ]
        }
       ],
       "layout": {
        "font": {
         "family": "微软雅黑"
        },
        "title": {
         "text": "每小时在各区域人数"
        }
       }
      },
      "text/html": [
       "<div>\n",
       "        \n",
       "        \n",
       "            <div id=\"3ff6a36d-c293-49d8-9deb-294789ad37b0\" class=\"plotly-graph-div\" style=\"height:525px; width:100%;\"></div>\n",
       "            <script type=\"text/javascript\">\n",
       "                require([\"plotly\"], function(Plotly) {\n",
       "                    window.PLOTLYENV=window.PLOTLYENV || {};\n",
       "                    window.PLOTLYENV.BASE_URL='https://plot.ly';\n",
       "                    \n",
       "                if (document.getElementById(\"3ff6a36d-c293-49d8-9deb-294789ad37b0\")) {\n",
       "                    Plotly.newPlot(\n",
       "                        '3ff6a36d-c293-49d8-9deb-294789ad37b0',\n",
       "                        [{\"marker\": {\"color\": \"#e85a71\"}, \"mode\": \"lines\", \"name\": \"\\u8fdb\\u95e8\\u533a\", \"type\": \"scatter\", \"uid\": \"ef133d58-8c58-4fd7-843e-2fe1a0f58ac5\", \"x\": [\"2019-05-10 10:00:00\", \"2019-05-10 11:00:00\", \"2019-05-10 12:00:00\", \"2019-05-10 13:00:00\", \"2019-05-10 14:00:00\", \"2019-05-10 15:00:00\", \"2019-05-10 16:00:00\", \"2019-05-10 17:00:00\", \"2019-05-10 18:00:00\", \"2019-05-10 19:00:00\", \"2019-05-10 20:00:00\", \"2019-05-10 21:00:00\"], \"y\": [19, 39, 49, 45, 29, 36, 36, 23, 75, 66, 73, 55]}, {\"marker\": {\"color\": \"#4ea1d3\"}, \"mode\": \"lines\", \"name\": \"\\u4e2d\\u533a1\", \"type\": \"scatter\", \"uid\": \"0cbb18a1-88c0-48e2-94f9-e3430da885c2\", \"x\": [\"2019-05-10 10:00:00\", \"2019-05-10 11:00:00\", \"2019-05-10 12:00:00\", \"2019-05-10 13:00:00\", \"2019-05-10 14:00:00\", \"2019-05-10 15:00:00\", \"2019-05-10 16:00:00\", \"2019-05-10 17:00:00\", \"2019-05-10 18:00:00\", \"2019-05-10 19:00:00\", \"2019-05-10 20:00:00\", \"2019-05-10 21:00:00\"], \"y\": [12, 35, 34, 12, 15, 24, 11, 13, 32, 35, 49, 30]}, {\"marker\": {\"color\": \"#ffc952\"}, \"mode\": \"lines\", \"name\": \"\\u4e2d\\u533a2\", \"type\": \"scatter\", \"uid\": \"8aef4031-51ef-4fae-8979-f5d775cb5d01\", \"x\": [\"2019-05-10 10:00:00\", \"2019-05-10 11:00:00\", \"2019-05-10 12:00:00\", \"2019-05-10 13:00:00\", \"2019-05-10 14:00:00\", \"2019-05-10 15:00:00\", \"2019-05-10 16:00:00\", \"2019-05-10 17:00:00\", \"2019-05-10 18:00:00\", \"2019-05-10 19:00:00\", \"2019-05-10 20:00:00\", \"2019-05-10 21:00:00\"], \"y\": [12, 21, 29, 12, 10, 18, 8, 8, 33, 41, 20, 31]}, {\"marker\": {\"color\": \"#454552\"}, \"mode\": \"lines\", \"name\": \"\\u91cc\\u95f4\", \"type\": \"scatter\", \"uid\": \"43f7f2fc-ac8c-4466-9b77-0c16f409305f\", \"x\": [\"2019-05-10 10:00:00\", \"2019-05-10 11:00:00\", \"2019-05-10 12:00:00\", \"2019-05-10 13:00:00\", \"2019-05-10 14:00:00\", \"2019-05-10 15:00:00\", \"2019-05-10 16:00:00\", \"2019-05-10 17:00:00\", \"2019-05-10 18:00:00\", \"2019-05-10 19:00:00\", \"2019-05-10 20:00:00\", \"2019-05-10 21:00:00\"], \"y\": [7, 10, 8, 6, 5, 7, 8, 0, 11, 17, 19, 13]}],\n",
       "                        {\"font\": {\"family\": \"\\u5fae\\u8f6f\\u96c5\\u9ed1\"}, \"title\": {\"text\": \"\\u6bcf\\u5c0f\\u65f6\\u5728\\u5404\\u533a\\u57df\\u4eba\\u6570\"}},\n",
       "                        {\"showLink\": false, \"linkText\": \"Export to plot.ly\", \"plotlyServerURL\": \"https://plot.ly\", \"responsive\": true}\n",
       "                    ).then(function(){\n",
       "                            \n",
       "var gd = document.getElementById('3ff6a36d-c293-49d8-9deb-294789ad37b0');\n",
       "var x = new MutationObserver(function (mutations, observer) {{\n",
       "        var display = window.getComputedStyle(gd).display;\n",
       "        if (!display || display === 'none') {{\n",
       "            console.log([gd, 'removed!']);\n",
       "            Plotly.purge(gd);\n",
       "            observer.disconnect();\n",
       "        }}\n",
       "}});\n",
       "\n",
       "// Listen for the removal of the full notebook cells\n",
       "var notebookContainer = gd.closest('#notebook-container');\n",
       "if (notebookContainer) {{\n",
       "    x.observe(notebookContainer, {childList: true});\n",
       "}}\n",
       "\n",
       "// Listen for the clearing of the current output cell\n",
       "var outputEl = gd.closest('.output');\n",
       "if (outputEl) {{\n",
       "    x.observe(outputEl, {childList: true});\n",
       "}}\n",
       "\n",
       "                        })\n",
       "                };\n",
       "                });\n",
       "            </script>\n",
       "        </div>"
      ]
     },
     "metadata": {},
     "output_type": "display_data"
    }
   ],
   "source": [
    "# Set the datetime column as the index\n",
    "track['timestamp'] = pd.to_datetime(track['timestamp'])\n",
    "track.index = track['timestamp']\n",
    "# Group the data by month, and take the mean for each group (i.e. each month)\n",
    "df = track['stay'].groupby(track['from']).resample('H').count()\n",
    "df = df.reset_index()\n",
    "df.rename(columns={'stay':'count'}, inplace=True)\n",
    "\n",
    "trace1 = go.Scatter(\n",
    "    x=df[df['from'] == '进门区']['timestamp'],\n",
    "    y=df[df['from'] == '进门区']['count'],\n",
    "    name='进门区',\n",
    "    mode = 'lines',\n",
    "    marker=dict(color='#e85a71')\n",
    ")\n",
    "trace2 = go.Scatter(\n",
    "    x=df[df['from'] == '中区1']['timestamp'],\n",
    "    y=df[df['from'] == '中区1']['count'],\n",
    "    name='中区1',\n",
    "    mode = 'lines',\n",
    "    marker=dict(color='#4ea1d3')\n",
    ")\n",
    "trace3 = go.Scatter(\n",
    "    x=df[df['from'] == '中区2']['timestamp'],\n",
    "    y=df[df['from'] == '中区2']['count'],\n",
    "    name='中区2',\n",
    "    mode = 'lines',\n",
    "    marker=dict(color='#ffc952')\n",
    ")\n",
    "trace4 = go.Scatter(\n",
    "    x=df[df['from'] == '里间']['timestamp'],\n",
    "    y=df[df['from'] == '里间']['count'],\n",
    "    name='里间',\n",
    "    mode = 'lines',\n",
    "    marker=dict(color='#454552')\n",
    ")\n",
    "\n",
    "data = [trace1, trace2,trace3,trace4]\n",
    "layout = go.Layout(\n",
    "    title=\"每小时在各区域人数\",\n",
    "    font=dict(family='微软雅黑')\n",
    ")\n",
    "\n",
    "fig = go.Figure(data=data, layout=layout)\n",
    "plotly.offline.iplot(fig)\n",
    "pio.write_image(fig, '各区人数.jpeg', scale=5, width=600, height = 400)"
   ]
  },
  {
   "cell_type": "code",
   "execution_count": null,
   "metadata": {},
   "outputs": [],
   "source": []
  }
 ],
 "metadata": {
  "kernelspec": {
   "display_name": "Python 3",
   "language": "python",
   "name": "python3"
  },
  "language_info": {
   "codemirror_mode": {
    "name": "ipython",
    "version": 3
   },
   "file_extension": ".py",
   "mimetype": "text/x-python",
   "name": "python",
   "nbconvert_exporter": "python",
   "pygments_lexer": "ipython3",
   "version": "3.7.1"
  }
 },
 "nbformat": 4,
 "nbformat_minor": 2
}
